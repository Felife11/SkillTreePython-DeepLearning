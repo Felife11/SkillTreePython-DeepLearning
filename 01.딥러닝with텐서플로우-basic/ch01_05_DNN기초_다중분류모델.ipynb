{
  "nbformat": 4,
  "nbformat_minor": 0,
  "metadata": {
    "colab": {
      "name": "ch01_05_DNN기초-다중분류모델.ipynb",
      "provenance": [],
      "collapsed_sections": [],
      "machine_shape": "hm",
      "toc_visible": true,
      "include_colab_link": true
    },
    "kernelspec": {
      "name": "python3",
      "display_name": "Python 3"
    },
    "language_info": {
      "name": "python"
    },
    "accelerator": "GPU",
    "gpuClass": "standard"
  },
  "cells": [
    {
      "cell_type": "markdown",
      "metadata": {
        "id": "view-in-github",
        "colab_type": "text"
      },
      "source": [
        "<a href=\"https://colab.research.google.com/github/Felife11/SkillTreePython-DeepLearning/blob/main/01.%EB%94%A5%EB%9F%AC%EB%8B%9Dwith%ED%85%90%EC%84%9C%ED%94%8C%EB%A1%9C%EC%9A%B0-basic/ch01_05_DNN%EA%B8%B0%EC%B4%88_%EB%8B%A4%EC%A4%91%EB%B6%84%EB%A5%98%EB%AA%A8%EB%8D%B8.ipynb\" target=\"_parent\"><img src=\"https://colab.research.google.com/assets/colab-badge.svg\" alt=\"Open In Colab\"/></a>"
      ]
    },
    {
      "cell_type": "markdown",
      "source": [
        "# ch01.05. 딥러닝 다중 분류 모델\n",
        "---\n",
        "* 날짜: 2022.07.01\n",
        "* 이름: 정성대\n",
        "\n",
        "## 학습내용\n",
        "    - 딥러닝을 이용한 멀티클래스 분류 진행\n",
        "    - 적절한 손실함수와 최적화 함수 정의\n",
        "    - 평가 및 예측\n",
        "    \n",
        "## 학습자료\n",
        "\n",
        "* 모두의딥러닝\n",
        "* 데이터\n",
        "  * `iris.csv`\n",
        "  * MNIST 데이터셋\n",
        "\n",
        "\n",
        "```\n",
        "import numpy as np\n",
        "import pandas as pd\n",
        "import tensorflow as tf\n",
        "import matplotlib.pyplot as plt\n",
        "import seaborn as sns\n",
        "seed=1\n",
        "np.random.seed(seed)\n",
        "tf.random.set_seed(seed)\n",
        "```\n",
        "\n",
        "```\n",
        "https://github.com/yebiny/SkillTreePython-DeepLearning.git\n",
        "```"
      ],
      "metadata": {
        "id": "sWs2kEC1_b-P"
      }
    },
    {
      "cell_type": "code",
      "source": [
        "import numpy as np\n",
        "import pandas as pd\n",
        "import tensorflow as tf\n",
        "import matplotlib.pyplot as plt\n",
        "import seaborn as sns\n",
        "seed=1\n",
        "np.random.seed(seed)\n",
        "tf.random.set_seed(seed)"
      ],
      "metadata": {
        "id": "HJqjPthwgTg-"
      },
      "execution_count": 1,
      "outputs": []
    },
    {
      "cell_type": "code",
      "source": [
        "! git clone https://github.com/yebiny/SkillTreePython-DeepLearning.git"
      ],
      "metadata": {
        "id": "XiKfkQgYfoIE",
        "colab": {
          "base_uri": "https://localhost:8080/"
        },
        "outputId": "ef1cd531-196a-45c9-ce0d-0fb71527a3f8"
      },
      "execution_count": 2,
      "outputs": [
        {
          "output_type": "stream",
          "name": "stdout",
          "text": [
            "Cloning into 'SkillTreePython-DeepLearning'...\n",
            "remote: Enumerating objects: 322, done.\u001b[K\n",
            "remote: Counting objects: 100% (144/144), done.\u001b[K\n",
            "remote: Compressing objects: 100% (80/80), done.\u001b[K\n",
            "remote: Total 322 (delta 94), reused 88 (delta 64), pack-reused 178\u001b[K\n",
            "Receiving objects: 100% (322/322), 22.21 MiB | 16.66 MiB/s, done.\n",
            "Resolving deltas: 100% (129/129), done.\n"
          ]
        }
      ]
    },
    {
      "cell_type": "markdown",
      "source": [
        "## 아이리스 꽃 종류 예측\n",
        "---\n",
        "\n",
        "\n",
        "```\n",
        "- 0 sepal_length  꽃받침 길이\n",
        "- 1 sepal_width 꽃받침 너비\n",
        "- 2 petal_length 꽃임 길이\n",
        "- 3 petal_width 꽃잎 너비\n",
        "- 4 species 꽃의 종류 {setosa, versicolor virginica}\n",
        "```\n",
        "<p align='center'>\n",
        "<img src=https://github.com/yebiny/SkillTreePython-DeepLearning/blob/main/imgs/ch0105-01.PNG?raw=true width=550>\n",
        "</p>\n"
      ],
      "metadata": {
        "id": "4wsuH8GzftqZ"
      }
    },
    {
      "cell_type": "code",
      "execution_count": 8,
      "metadata": {
        "id": "68PCrczmzdId",
        "colab": {
          "base_uri": "https://localhost:8080/",
          "height": 442
        },
        "outputId": "0a66e350-a09c-4061-d969-93f74187b43a"
      },
      "outputs": [
        {
          "output_type": "stream",
          "name": "stdout",
          "text": [
            "(150, 5)\n"
          ]
        },
        {
          "output_type": "execute_result",
          "data": {
            "text/plain": [
              "       0    1    2    3               4\n",
              "0    5.1  3.5  1.4  0.2     Iris-setosa\n",
              "1    4.9  3.0  1.4  0.2     Iris-setosa\n",
              "2    4.7  3.2  1.3  0.2     Iris-setosa\n",
              "3    4.6  3.1  1.5  0.2     Iris-setosa\n",
              "4    5.0  3.6  1.4  0.2     Iris-setosa\n",
              "..   ...  ...  ...  ...             ...\n",
              "145  6.7  3.0  5.2  2.3  Iris-virginica\n",
              "146  6.3  2.5  5.0  1.9  Iris-virginica\n",
              "147  6.5  3.0  5.2  2.0  Iris-virginica\n",
              "148  6.2  3.4  5.4  2.3  Iris-virginica\n",
              "149  5.9  3.0  5.1  1.8  Iris-virginica\n",
              "\n",
              "[150 rows x 5 columns]"
            ],
            "text/html": [
              "\n",
              "  <div id=\"df-6649f6d9-23d0-479d-abf1-94650c1ae0f4\">\n",
              "    <div class=\"colab-df-container\">\n",
              "      <div>\n",
              "<style scoped>\n",
              "    .dataframe tbody tr th:only-of-type {\n",
              "        vertical-align: middle;\n",
              "    }\n",
              "\n",
              "    .dataframe tbody tr th {\n",
              "        vertical-align: top;\n",
              "    }\n",
              "\n",
              "    .dataframe thead th {\n",
              "        text-align: right;\n",
              "    }\n",
              "</style>\n",
              "<table border=\"1\" class=\"dataframe\">\n",
              "  <thead>\n",
              "    <tr style=\"text-align: right;\">\n",
              "      <th></th>\n",
              "      <th>0</th>\n",
              "      <th>1</th>\n",
              "      <th>2</th>\n",
              "      <th>3</th>\n",
              "      <th>4</th>\n",
              "    </tr>\n",
              "  </thead>\n",
              "  <tbody>\n",
              "    <tr>\n",
              "      <th>0</th>\n",
              "      <td>5.1</td>\n",
              "      <td>3.5</td>\n",
              "      <td>1.4</td>\n",
              "      <td>0.2</td>\n",
              "      <td>Iris-setosa</td>\n",
              "    </tr>\n",
              "    <tr>\n",
              "      <th>1</th>\n",
              "      <td>4.9</td>\n",
              "      <td>3.0</td>\n",
              "      <td>1.4</td>\n",
              "      <td>0.2</td>\n",
              "      <td>Iris-setosa</td>\n",
              "    </tr>\n",
              "    <tr>\n",
              "      <th>2</th>\n",
              "      <td>4.7</td>\n",
              "      <td>3.2</td>\n",
              "      <td>1.3</td>\n",
              "      <td>0.2</td>\n",
              "      <td>Iris-setosa</td>\n",
              "    </tr>\n",
              "    <tr>\n",
              "      <th>3</th>\n",
              "      <td>4.6</td>\n",
              "      <td>3.1</td>\n",
              "      <td>1.5</td>\n",
              "      <td>0.2</td>\n",
              "      <td>Iris-setosa</td>\n",
              "    </tr>\n",
              "    <tr>\n",
              "      <th>4</th>\n",
              "      <td>5.0</td>\n",
              "      <td>3.6</td>\n",
              "      <td>1.4</td>\n",
              "      <td>0.2</td>\n",
              "      <td>Iris-setosa</td>\n",
              "    </tr>\n",
              "    <tr>\n",
              "      <th>...</th>\n",
              "      <td>...</td>\n",
              "      <td>...</td>\n",
              "      <td>...</td>\n",
              "      <td>...</td>\n",
              "      <td>...</td>\n",
              "    </tr>\n",
              "    <tr>\n",
              "      <th>145</th>\n",
              "      <td>6.7</td>\n",
              "      <td>3.0</td>\n",
              "      <td>5.2</td>\n",
              "      <td>2.3</td>\n",
              "      <td>Iris-virginica</td>\n",
              "    </tr>\n",
              "    <tr>\n",
              "      <th>146</th>\n",
              "      <td>6.3</td>\n",
              "      <td>2.5</td>\n",
              "      <td>5.0</td>\n",
              "      <td>1.9</td>\n",
              "      <td>Iris-virginica</td>\n",
              "    </tr>\n",
              "    <tr>\n",
              "      <th>147</th>\n",
              "      <td>6.5</td>\n",
              "      <td>3.0</td>\n",
              "      <td>5.2</td>\n",
              "      <td>2.0</td>\n",
              "      <td>Iris-virginica</td>\n",
              "    </tr>\n",
              "    <tr>\n",
              "      <th>148</th>\n",
              "      <td>6.2</td>\n",
              "      <td>3.4</td>\n",
              "      <td>5.4</td>\n",
              "      <td>2.3</td>\n",
              "      <td>Iris-virginica</td>\n",
              "    </tr>\n",
              "    <tr>\n",
              "      <th>149</th>\n",
              "      <td>5.9</td>\n",
              "      <td>3.0</td>\n",
              "      <td>5.1</td>\n",
              "      <td>1.8</td>\n",
              "      <td>Iris-virginica</td>\n",
              "    </tr>\n",
              "  </tbody>\n",
              "</table>\n",
              "<p>150 rows × 5 columns</p>\n",
              "</div>\n",
              "      <button class=\"colab-df-convert\" onclick=\"convertToInteractive('df-6649f6d9-23d0-479d-abf1-94650c1ae0f4')\"\n",
              "              title=\"Convert this dataframe to an interactive table.\"\n",
              "              style=\"display:none;\">\n",
              "        \n",
              "  <svg xmlns=\"http://www.w3.org/2000/svg\" height=\"24px\"viewBox=\"0 0 24 24\"\n",
              "       width=\"24px\">\n",
              "    <path d=\"M0 0h24v24H0V0z\" fill=\"none\"/>\n",
              "    <path d=\"M18.56 5.44l.94 2.06.94-2.06 2.06-.94-2.06-.94-.94-2.06-.94 2.06-2.06.94zm-11 1L8.5 8.5l.94-2.06 2.06-.94-2.06-.94L8.5 2.5l-.94 2.06-2.06.94zm10 10l.94 2.06.94-2.06 2.06-.94-2.06-.94-.94-2.06-.94 2.06-2.06.94z\"/><path d=\"M17.41 7.96l-1.37-1.37c-.4-.4-.92-.59-1.43-.59-.52 0-1.04.2-1.43.59L10.3 9.45l-7.72 7.72c-.78.78-.78 2.05 0 2.83L4 21.41c.39.39.9.59 1.41.59.51 0 1.02-.2 1.41-.59l7.78-7.78 2.81-2.81c.8-.78.8-2.07 0-2.86zM5.41 20L4 18.59l7.72-7.72 1.47 1.35L5.41 20z\"/>\n",
              "  </svg>\n",
              "      </button>\n",
              "      \n",
              "  <style>\n",
              "    .colab-df-container {\n",
              "      display:flex;\n",
              "      flex-wrap:wrap;\n",
              "      gap: 12px;\n",
              "    }\n",
              "\n",
              "    .colab-df-convert {\n",
              "      background-color: #E8F0FE;\n",
              "      border: none;\n",
              "      border-radius: 50%;\n",
              "      cursor: pointer;\n",
              "      display: none;\n",
              "      fill: #1967D2;\n",
              "      height: 32px;\n",
              "      padding: 0 0 0 0;\n",
              "      width: 32px;\n",
              "    }\n",
              "\n",
              "    .colab-df-convert:hover {\n",
              "      background-color: #E2EBFA;\n",
              "      box-shadow: 0px 1px 2px rgba(60, 64, 67, 0.3), 0px 1px 3px 1px rgba(60, 64, 67, 0.15);\n",
              "      fill: #174EA6;\n",
              "    }\n",
              "\n",
              "    [theme=dark] .colab-df-convert {\n",
              "      background-color: #3B4455;\n",
              "      fill: #D2E3FC;\n",
              "    }\n",
              "\n",
              "    [theme=dark] .colab-df-convert:hover {\n",
              "      background-color: #434B5C;\n",
              "      box-shadow: 0px 1px 3px 1px rgba(0, 0, 0, 0.15);\n",
              "      filter: drop-shadow(0px 1px 2px rgba(0, 0, 0, 0.3));\n",
              "      fill: #FFFFFF;\n",
              "    }\n",
              "  </style>\n",
              "\n",
              "      <script>\n",
              "        const buttonEl =\n",
              "          document.querySelector('#df-6649f6d9-23d0-479d-abf1-94650c1ae0f4 button.colab-df-convert');\n",
              "        buttonEl.style.display =\n",
              "          google.colab.kernel.accessAllowed ? 'block' : 'none';\n",
              "\n",
              "        async function convertToInteractive(key) {\n",
              "          const element = document.querySelector('#df-6649f6d9-23d0-479d-abf1-94650c1ae0f4');\n",
              "          const dataTable =\n",
              "            await google.colab.kernel.invokeFunction('convertToInteractive',\n",
              "                                                     [key], {});\n",
              "          if (!dataTable) return;\n",
              "\n",
              "          const docLinkHtml = 'Like what you see? Visit the ' +\n",
              "            '<a target=\"_blank\" href=https://colab.research.google.com/notebooks/data_table.ipynb>data table notebook</a>'\n",
              "            + ' to learn more about interactive tables.';\n",
              "          element.innerHTML = '';\n",
              "          dataTable['output_type'] = 'display_data';\n",
              "          await google.colab.output.renderOutput(dataTable, element);\n",
              "          const docLink = document.createElement('div');\n",
              "          docLink.innerHTML = docLinkHtml;\n",
              "          element.appendChild(docLink);\n",
              "        }\n",
              "      </script>\n",
              "    </div>\n",
              "  </div>\n",
              "  "
            ]
          },
          "metadata": {},
          "execution_count": 8
        }
      ],
      "source": [
        "path = '/content/SkillTreePython-DeepLearning/dataset/iris.csv'\n",
        "dataset = pd.read_csv(path, header=None)\n",
        "print(dataset.shape)\n",
        "dataset"
      ]
    },
    {
      "cell_type": "code",
      "source": [
        ""
      ],
      "metadata": {
        "id": "PoXYFIE9_mTS"
      },
      "execution_count": null,
      "outputs": []
    },
    {
      "cell_type": "code",
      "source": [
        ""
      ],
      "metadata": {
        "id": "BkDCCMLBgawg"
      },
      "execution_count": null,
      "outputs": []
    },
    {
      "cell_type": "markdown",
      "source": [
        "* 예측값 분포 확인"
      ],
      "metadata": {
        "id": "87SJwUDWglBP"
      }
    },
    {
      "cell_type": "code",
      "source": [
        "sns.countplot(x = dataset[4])"
      ],
      "metadata": {
        "id": "hLNYhitOgf0o",
        "colab": {
          "base_uri": "https://localhost:8080/",
          "height": 297
        },
        "outputId": "1cedc854-dffe-4694-a42d-b03ecc02370b"
      },
      "execution_count": 7,
      "outputs": [
        {
          "output_type": "execute_result",
          "data": {
            "text/plain": [
              "<matplotlib.axes._subplots.AxesSubplot at 0x7fcd508aef10>"
            ]
          },
          "metadata": {},
          "execution_count": 7
        },
        {
          "output_type": "display_data",
          "data": {
            "text/plain": [
              "<Figure size 432x288 with 1 Axes>"
            ],
            "image/png": "[encoded data removed]"
          },
          "metadata": {
            "needs_background": "light"
          }
        }
      ]
    },
    {
      "cell_type": "markdown",
      "source": [
        "### | 모델\n",
        "\n",
        "\n",
        "<p align='center'>\n",
        "<img src=https://github.com/yebiny/SkillTreePython-DeepLearning/blob/main/imgs/ch0105-02.PNG?raw=true width=800>\n",
        "</p>\n"
      ],
      "metadata": {
        "id": "DHshtWB9r0be"
      }
    },
    {
      "cell_type": "markdown",
      "source": [
        "#### **모델 생성**"
      ],
      "metadata": {
        "id": "J94jFpWyr2k9"
      }
    },
    {
      "cell_type": "code",
      "source": [
        "from sklearn.preprocessing import StandardScaler, OneHotEncoder #머신러닝 라이브러리\n",
        "from sklearn.model_selection import train_test_split\n",
        "\n",
        "def path2dataset_iris(path):\n",
        "\n",
        "  # 불러오기\n",
        "  dataset =  pd.read_csv(path,  # 엑셀이나 csv 등 정현 데이터를 불러오기\n",
        "                       header=None, # 첫번째 샘플이 헤더로 읽히지 않도록 설정\n",
        "                       )  # 데이터 형식 : pandas의 데이터프레임\n",
        "  dataset = dataset.values # 데이터 형식 : 넘파이 배열로 변환\n",
        "  # x-y 분할 -> 넘파이 배열을 슬라이싱하는 기법\n",
        "  x = dataset[:, 0:-1] # ( : 모든행, 첫번째부터 마지막 전까지의 열)\n",
        "  y = dataset[:, -1] # ( : 모든행, 마지막열)\n",
        "\n",
        "  # 정규화(속셩별로 데이터의 스케일을 조정) -  x데이터에만 해준다\n",
        "  scaler = StandardScaler()\n",
        "  x = dataset = scaler.fit_transform(x)\n",
        "\n",
        "  # 원한 인코딩: y {[1,0,0], [0,1,0], [0,0,1]}\n",
        "  onehot = OneHotEncoder(sparse=False)\n",
        "  y = onehot.fit_transform(np.expand_dims(y,1)) # y(샘플개수, ) ->행렬 (샘플개수, 1)\n",
        "  print(onehot.categories_)\n",
        "  # train-test 분할\n",
        "  x_train, x_test, y_train, y_test = train_test_split(x, y, test_size =  0.3)\n",
        "  \n",
        "  return x_train, x_test, y_train, y_test\n",
        "path = '/content/SkillTreePython-DeepLearning/dataset/iris.csv'\n",
        "x_train, x_test, y_train, y_test = path2dataset_iris(path)\n",
        "print(x_train.shape, x_test.shape, y_train.shape, y_test.shape)\n",
        "print(f'첫번째 샘플 x : {x_train[0]}')\n",
        "print(f'첫번째 샘플 y : {y_train[0]}')"
      ],
      "metadata": {
        "id": "5BZG1z90rsGc",
        "colab": {
          "base_uri": "https://localhost:8080/"
        },
        "outputId": "d994a851-9ddb-4669-f975-1eefbb20ccdd"
      },
      "execution_count": 9,
      "outputs": [
        {
          "output_type": "stream",
          "name": "stdout",
          "text": [
            "[array(['Iris-setosa', 'Iris-versicolor', 'Iris-virginica'], dtype=object)]\n",
            "(105, 4) (45, 4) (105, 3) (45, 3)\n",
            "첫번째 샘플 x : [ 2.24968346 -1.05056946  1.78634131  1.44795564]\n",
            "첫번째 샘플 y : [0. 0. 1.]\n"
          ]
        }
      ]
    },
    {
      "cell_type": "code",
      "source": [
        "A, B, C  D, 네개의 클래스를 구분하는 문제\n",
        "# 라벨링\n",
        "A -> 0\n",
        "B -> 1\n",
        "C -> 2\n",
        "D -> 3\n",
        "\n",
        "# 원-핫 인코딩\n",
        "A -> [1,0,0,0]\n",
        "B -> [0,1,0,0]\n",
        "C -> [0,0,1, 0]\n",
        "D -> [0,0,0,1]"
      ],
      "metadata": {
        "id": "Qw81emTDdHKE"
      },
      "execution_count": null,
      "outputs": []
    },
    {
      "cell_type": "markdown",
      "source": [
        "#### **모델 시각화**\n",
        "\n",
        "* `model.summary()`\n",
        "* `utils.plot_model()`"
      ],
      "metadata": {
        "id": "1yqXLbEyx5QK"
      }
    },
    {
      "cell_type": "code",
      "source": [
        "import tensorflow as tf\n",
        "from tensorflow.keras import layers, models, utils\n",
        "import numpy as np\n",
        "tf.__version__\n"
      ],
      "metadata": {
        "id": "dKCT38Fsr6dF",
        "colab": {
          "base_uri": "https://localhost:8080/",
          "height": 35
        },
        "outputId": "1bdf6898-4a34-4634-a6b1-b6ed8d2818d4"
      },
      "execution_count": 10,
      "outputs": [
        {
          "output_type": "execute_result",
          "data": {
            "text/plain": [
              "'2.8.2'"
            ],
            "application/vnd.google.colaboratory.intrinsic+json": {
              "type": "string"
            }
          },
          "metadata": {},
          "execution_count": 10
        }
      ]
    },
    {
      "cell_type": "code",
      "source": [
        "def build_model():\n",
        "  x = layers.Input(shape = (4))\n",
        "  y = layers.Dense(30, activation = 'relu')(x) #아웃풋 shape\n",
        "  y = layers.Dense(10, activation = 'relu')(y)\n",
        "  y = layers.Dense(3, activation = 'softmax')(y)\n",
        "  model = models.Model(x, y) # 이진분류 문제 경우, 마지막 레이어에서 sigmoid 사용\n",
        " \n",
        "  return model\n",
        "\n",
        "model = build_model()\n",
        "model.summary()"
      ],
      "metadata": {
        "id": "3GxvtlHvf4qr",
        "outputId": "b3dea769-2fc7-402b-b665-ad37f14532a0",
        "colab": {
          "base_uri": "https://localhost:8080/"
        }
      },
      "execution_count": 15,
      "outputs": [
        {
          "output_type": "stream",
          "name": "stdout",
          "text": [
            "Model: \"model_2\"\n",
            "_________________________________________________________________\n",
            " Layer (type)                Output Shape              Param #   \n",
            "=================================================================\n",
            " input_3 (InputLayer)        [(None, 4)]               0         \n",
            "                                                                 \n",
            " dense_5 (Dense)             (None, 30)                150       \n",
            "                                                                 \n",
            " dense_6 (Dense)             (None, 10)                310       \n",
            "                                                                 \n",
            " dense_7 (Dense)             (None, 3)                 33        \n",
            "                                                                 \n",
            "=================================================================\n",
            "Total params: 493\n",
            "Trainable params: 493\n",
            "Non-trainable params: 0\n",
            "_________________________________________________________________\n"
          ]
        }
      ]
    },
    {
      "cell_type": "markdown",
      "source": [
        "### | 학습"
      ],
      "metadata": {
        "id": "gLuvsUFmwzPa"
      }
    },
    {
      "cell_type": "markdown",
      "source": [
        "#### **모델 컴파일**\n",
        "\n",
        "```\n",
        "model.compile(loss, optimizer, metrics) \n",
        "```\n",
        "* `loss` : 분류 문제는 기본적으로 crossentropy\n",
        "* 이진분류 : binary_crossentropy\n",
        "* 다중분류 : categorical_crossentropy\n",
        "* `optimizer` : \n",
        "* `metrics`: \n"
      ],
      "metadata": {
        "id": "fwQboNHp3EHe"
      }
    },
    {
      "cell_type": "code",
      "source": [
        "model.compile(loss='categorical_crossentropy',\n",
        "             optimizer = 'adam',\n",
        "             metrics = ['accuracy'])\n"
      ],
      "metadata": {
        "id": "SASPIskxgfRY"
      },
      "execution_count": 16,
      "outputs": []
    },
    {
      "cell_type": "markdown",
      "source": [
        "#### **학습**\n",
        "\n",
        "```\n",
        "model.fit(x_train, y_train, epochs, batch_size)\n",
        "```\n",
        "* `x_train` : 넘파이 혹은 텐서 형식의 인풋 데이터\n",
        "* `y_train` : 넘파이 혹은 텐서 형식의 아웃풋 데이터\n",
        "* `epochs` : 학습 횟수\n",
        "* `batch_size` : 배치 사이즈 ((업데이트 한번에 사용될 샘플 개수)"
      ],
      "metadata": {
        "id": "JukUpWB4gfRY"
      }
    },
    {
      "cell_type": "code",
      "source": [
        "model.fit(x_train, y_train, epochs = 100, batch_size = 10)"
      ],
      "metadata": {
        "id": "9bgbpUhogfRY",
        "colab": {
          "base_uri": "https://localhost:8080/"
        },
        "outputId": "b5d1ac7c-0988-4fd0-a980-2fba294031f6"
      },
      "execution_count": 17,
      "outputs": [
        {
          "output_type": "stream",
          "name": "stdout",
          "text": [
            "Epoch 1/100\n",
            "11/11 [==============================] - 3s 3ms/step - loss: 1.0217 - accuracy: 0.4667\n",
            "Epoch 2/100\n",
            "11/11 [==============================] - 0s 3ms/step - loss: 0.9269 - accuracy: 0.5619\n",
            "Epoch 3/100\n",
            "11/11 [==============================] - 0s 2ms/step - loss: 0.8500 - accuracy: 0.5905\n",
            "Epoch 4/100\n",
            "11/11 [==============================] - 0s 2ms/step - loss: 0.7835 - accuracy: 0.5714\n",
            "Epoch 5/100\n",
            "11/11 [==============================] - 0s 2ms/step - loss: 0.7244 - accuracy: 0.5714\n",
            "Epoch 6/100\n",
            "11/11 [==============================] - 0s 2ms/step - loss: 0.6748 - accuracy: 0.6667\n",
            "Epoch 7/100\n",
            "11/11 [==============================] - 0s 3ms/step - loss: 0.6327 - accuracy: 0.7714\n",
            "Epoch 8/100\n",
            "11/11 [==============================] - 0s 3ms/step - loss: 0.5981 - accuracy: 0.7810\n",
            "Epoch 9/100\n",
            "11/11 [==============================] - 0s 3ms/step - loss: 0.5687 - accuracy: 0.8190\n",
            "Epoch 10/100\n",
            "11/11 [==============================] - 0s 3ms/step - loss: 0.5435 - accuracy: 0.8381\n",
            "Epoch 11/100\n",
            "11/11 [==============================] - 0s 3ms/step - loss: 0.5210 - accuracy: 0.8571\n",
            "Epoch 12/100\n",
            "11/11 [==============================] - 0s 2ms/step - loss: 0.5003 - accuracy: 0.8571\n",
            "Epoch 13/100\n",
            "11/11 [==============================] - 0s 3ms/step - loss: 0.4817 - accuracy: 0.8667\n",
            "Epoch 14/100\n",
            "11/11 [==============================] - 0s 2ms/step - loss: 0.4635 - accuracy: 0.8571\n",
            "Epoch 15/100\n",
            "11/11 [==============================] - 0s 3ms/step - loss: 0.4446 - accuracy: 0.8476\n",
            "Epoch 16/100\n",
            "11/11 [==============================] - 0s 2ms/step - loss: 0.4270 - accuracy: 0.8381\n",
            "Epoch 17/100\n",
            "11/11 [==============================] - 0s 3ms/step - loss: 0.4093 - accuracy: 0.8381\n",
            "Epoch 18/100\n",
            "11/11 [==============================] - 0s 2ms/step - loss: 0.3934 - accuracy: 0.8476\n",
            "Epoch 19/100\n",
            "11/11 [==============================] - 0s 3ms/step - loss: 0.3778 - accuracy: 0.8476\n",
            "Epoch 20/100\n",
            "11/11 [==============================] - 0s 3ms/step - loss: 0.3641 - accuracy: 0.8476\n",
            "Epoch 21/100\n",
            "11/11 [==============================] - 0s 2ms/step - loss: 0.3512 - accuracy: 0.8571\n",
            "Epoch 22/100\n",
            "11/11 [==============================] - 0s 4ms/step - loss: 0.3385 - accuracy: 0.8667\n",
            "Epoch 23/100\n",
            "11/11 [==============================] - 0s 3ms/step - loss: 0.3269 - accuracy: 0.8667\n",
            "Epoch 24/100\n",
            "11/11 [==============================] - 0s 3ms/step - loss: 0.3152 - accuracy: 0.8667\n",
            "Epoch 25/100\n",
            "11/11 [==============================] - 0s 2ms/step - loss: 0.3036 - accuracy: 0.8667\n",
            "Epoch 26/100\n",
            "11/11 [==============================] - 0s 2ms/step - loss: 0.2927 - accuracy: 0.8762\n",
            "Epoch 27/100\n",
            "11/11 [==============================] - 0s 2ms/step - loss: 0.2813 - accuracy: 0.8857\n",
            "Epoch 28/100\n",
            "11/11 [==============================] - 0s 3ms/step - loss: 0.2694 - accuracy: 0.8952\n",
            "Epoch 29/100\n",
            "11/11 [==============================] - 0s 3ms/step - loss: 0.2584 - accuracy: 0.8952\n",
            "Epoch 30/100\n",
            "11/11 [==============================] - 0s 3ms/step - loss: 0.2464 - accuracy: 0.9048\n",
            "Epoch 31/100\n",
            "11/11 [==============================] - 0s 3ms/step - loss: 0.2351 - accuracy: 0.9143\n",
            "Epoch 32/100\n",
            "11/11 [==============================] - 0s 2ms/step - loss: 0.2235 - accuracy: 0.9238\n",
            "Epoch 33/100\n",
            "11/11 [==============================] - 0s 3ms/step - loss: 0.2133 - accuracy: 0.9333\n",
            "Epoch 34/100\n",
            "11/11 [==============================] - 0s 2ms/step - loss: 0.2015 - accuracy: 0.9333\n",
            "Epoch 35/100\n",
            "11/11 [==============================] - 0s 3ms/step - loss: 0.1906 - accuracy: 0.9429\n",
            "Epoch 36/100\n",
            "11/11 [==============================] - 0s 3ms/step - loss: 0.1795 - accuracy: 0.9524\n",
            "Epoch 37/100\n",
            "11/11 [==============================] - 0s 3ms/step - loss: 0.1693 - accuracy: 0.9524\n",
            "Epoch 38/100\n",
            "11/11 [==============================] - 0s 3ms/step - loss: 0.1601 - accuracy: 0.9619\n",
            "Epoch 39/100\n",
            "11/11 [==============================] - 0s 2ms/step - loss: 0.1517 - accuracy: 0.9714\n",
            "Epoch 40/100\n",
            "11/11 [==============================] - 0s 2ms/step - loss: 0.1448 - accuracy: 0.9714\n",
            "Epoch 41/100\n",
            "11/11 [==============================] - 0s 3ms/step - loss: 0.1364 - accuracy: 0.9714\n",
            "Epoch 42/100\n",
            "11/11 [==============================] - 0s 2ms/step - loss: 0.1310 - accuracy: 0.9714\n",
            "Epoch 43/100\n",
            "11/11 [==============================] - 0s 3ms/step - loss: 0.1247 - accuracy: 0.9810\n",
            "Epoch 44/100\n",
            "11/11 [==============================] - 0s 3ms/step - loss: 0.1198 - accuracy: 0.9810\n",
            "Epoch 45/100\n",
            "11/11 [==============================] - 0s 2ms/step - loss: 0.1150 - accuracy: 0.9810\n",
            "Epoch 46/100\n",
            "11/11 [==============================] - 0s 2ms/step - loss: 0.1105 - accuracy: 0.9810\n",
            "Epoch 47/100\n",
            "11/11 [==============================] - 0s 3ms/step - loss: 0.1068 - accuracy: 0.9810\n",
            "Epoch 48/100\n",
            "11/11 [==============================] - 0s 3ms/step - loss: 0.1029 - accuracy: 0.9810\n",
            "Epoch 49/100\n",
            "11/11 [==============================] - 0s 3ms/step - loss: 0.0998 - accuracy: 0.9810\n",
            "Epoch 50/100\n",
            "11/11 [==============================] - 0s 2ms/step - loss: 0.0968 - accuracy: 0.9810\n",
            "Epoch 51/100\n",
            "11/11 [==============================] - 0s 3ms/step - loss: 0.0938 - accuracy: 0.9810\n",
            "Epoch 52/100\n",
            "11/11 [==============================] - 0s 3ms/step - loss: 0.0912 - accuracy: 0.9810\n",
            "Epoch 53/100\n",
            "11/11 [==============================] - 0s 3ms/step - loss: 0.0889 - accuracy: 0.9810\n",
            "Epoch 54/100\n",
            "11/11 [==============================] - 0s 3ms/step - loss: 0.0871 - accuracy: 0.9810\n",
            "Epoch 55/100\n",
            "11/11 [==============================] - 0s 3ms/step - loss: 0.0846 - accuracy: 0.9714\n",
            "Epoch 56/100\n",
            "11/11 [==============================] - 0s 3ms/step - loss: 0.0822 - accuracy: 0.9810\n",
            "Epoch 57/100\n",
            "11/11 [==============================] - 0s 3ms/step - loss: 0.0802 - accuracy: 0.9810\n",
            "Epoch 58/100\n",
            "11/11 [==============================] - 0s 2ms/step - loss: 0.0790 - accuracy: 0.9810\n",
            "Epoch 59/100\n",
            "11/11 [==============================] - 0s 2ms/step - loss: 0.0767 - accuracy: 0.9810\n",
            "Epoch 60/100\n",
            "11/11 [==============================] - 0s 3ms/step - loss: 0.0757 - accuracy: 0.9810\n",
            "Epoch 61/100\n",
            "11/11 [==============================] - 0s 3ms/step - loss: 0.0735 - accuracy: 0.9810\n",
            "Epoch 62/100\n",
            "11/11 [==============================] - 0s 3ms/step - loss: 0.0727 - accuracy: 0.9714\n",
            "Epoch 63/100\n",
            "11/11 [==============================] - 0s 3ms/step - loss: 0.0715 - accuracy: 0.9714\n",
            "Epoch 64/100\n",
            "11/11 [==============================] - 0s 2ms/step - loss: 0.0693 - accuracy: 0.9810\n",
            "Epoch 65/100\n",
            "11/11 [==============================] - 0s 3ms/step - loss: 0.0682 - accuracy: 0.9810\n",
            "Epoch 66/100\n",
            "11/11 [==============================] - 0s 3ms/step - loss: 0.0676 - accuracy: 0.9810\n",
            "Epoch 67/100\n",
            "11/11 [==============================] - 0s 3ms/step - loss: 0.0661 - accuracy: 0.9714\n",
            "Epoch 68/100\n",
            "11/11 [==============================] - 0s 3ms/step - loss: 0.0665 - accuracy: 0.9810\n",
            "Epoch 69/100\n",
            "11/11 [==============================] - 0s 3ms/step - loss: 0.0644 - accuracy: 0.9714\n",
            "Epoch 70/100\n",
            "11/11 [==============================] - 0s 3ms/step - loss: 0.0632 - accuracy: 0.9714\n",
            "Epoch 71/100\n",
            "11/11 [==============================] - 0s 3ms/step - loss: 0.0620 - accuracy: 0.9714\n",
            "Epoch 72/100\n",
            "11/11 [==============================] - 0s 3ms/step - loss: 0.0617 - accuracy: 0.9714\n",
            "Epoch 73/100\n",
            "11/11 [==============================] - 0s 3ms/step - loss: 0.0601 - accuracy: 0.9810\n",
            "Epoch 74/100\n",
            "11/11 [==============================] - 0s 3ms/step - loss: 0.0603 - accuracy: 0.9810\n",
            "Epoch 75/100\n",
            "11/11 [==============================] - 0s 3ms/step - loss: 0.0591 - accuracy: 0.9810\n",
            "Epoch 76/100\n",
            "11/11 [==============================] - 0s 3ms/step - loss: 0.0580 - accuracy: 0.9810\n",
            "Epoch 77/100\n",
            "11/11 [==============================] - 0s 3ms/step - loss: 0.0571 - accuracy: 0.9810\n",
            "Epoch 78/100\n",
            "11/11 [==============================] - 0s 3ms/step - loss: 0.0567 - accuracy: 0.9905\n",
            "Epoch 79/100\n",
            "11/11 [==============================] - 0s 3ms/step - loss: 0.0568 - accuracy: 0.9810\n",
            "Epoch 80/100\n",
            "11/11 [==============================] - 0s 3ms/step - loss: 0.0552 - accuracy: 0.9905\n",
            "Epoch 81/100\n",
            "11/11 [==============================] - 0s 3ms/step - loss: 0.0551 - accuracy: 0.9810\n",
            "Epoch 82/100\n",
            "11/11 [==============================] - 0s 2ms/step - loss: 0.0542 - accuracy: 0.9905\n",
            "Epoch 83/100\n",
            "11/11 [==============================] - 0s 2ms/step - loss: 0.0544 - accuracy: 0.9905\n",
            "Epoch 84/100\n",
            "11/11 [==============================] - 0s 3ms/step - loss: 0.0534 - accuracy: 0.9905\n",
            "Epoch 85/100\n",
            "11/11 [==============================] - 0s 2ms/step - loss: 0.0525 - accuracy: 0.9905\n",
            "Epoch 86/100\n",
            "11/11 [==============================] - 0s 3ms/step - loss: 0.0523 - accuracy: 0.9905\n",
            "Epoch 87/100\n",
            "11/11 [==============================] - 0s 2ms/step - loss: 0.0516 - accuracy: 0.9905\n",
            "Epoch 88/100\n",
            "11/11 [==============================] - 0s 3ms/step - loss: 0.0508 - accuracy: 0.9905\n",
            "Epoch 89/100\n",
            "11/11 [==============================] - 0s 3ms/step - loss: 0.0511 - accuracy: 0.9905\n",
            "Epoch 90/100\n",
            "11/11 [==============================] - 0s 3ms/step - loss: 0.0504 - accuracy: 0.9905\n",
            "Epoch 91/100\n",
            "11/11 [==============================] - 0s 2ms/step - loss: 0.0498 - accuracy: 0.9905\n",
            "Epoch 92/100\n",
            "11/11 [==============================] - 0s 3ms/step - loss: 0.0506 - accuracy: 0.9905\n",
            "Epoch 93/100\n",
            "11/11 [==============================] - 0s 3ms/step - loss: 0.0495 - accuracy: 0.9905\n",
            "Epoch 94/100\n",
            "11/11 [==============================] - 0s 3ms/step - loss: 0.0488 - accuracy: 0.9905\n",
            "Epoch 95/100\n",
            "11/11 [==============================] - 0s 3ms/step - loss: 0.0484 - accuracy: 0.9905\n",
            "Epoch 96/100\n",
            "11/11 [==============================] - 0s 2ms/step - loss: 0.0479 - accuracy: 0.9905\n",
            "Epoch 97/100\n",
            "11/11 [==============================] - 0s 3ms/step - loss: 0.0472 - accuracy: 0.9905\n",
            "Epoch 98/100\n",
            "11/11 [==============================] - 0s 3ms/step - loss: 0.0472 - accuracy: 0.9905\n",
            "Epoch 99/100\n",
            "11/11 [==============================] - 0s 3ms/step - loss: 0.0464 - accuracy: 0.9905\n",
            "Epoch 100/100\n",
            "11/11 [==============================] - 0s 2ms/step - loss: 0.0467 - accuracy: 0.9905\n"
          ]
        },
        {
          "output_type": "execute_result",
          "data": {
            "text/plain": [
              "<keras.callbacks.History at 0x7fccd2062510>"
            ]
          },
          "metadata": {},
          "execution_count": 17
        }
      ]
    },
    {
      "cell_type": "markdown",
      "source": [
        "### | 검증 및 예측\n"
      ],
      "metadata": {
        "id": "DyFOnqyNw5_q"
      }
    },
    {
      "cell_type": "markdown",
      "source": [
        "#### **검증**\n",
        "\n",
        "```\n",
        "model.evaluate(x_test, y_test)\n",
        "```\n",
        "* `x_test` : 넘파이 혹은 텐서 형식의 인풋 테스트 데이터\n",
        "* `y_test` : 넘파이 혹은 텐서 형식의 아웃풋 테스트 데이터"
      ],
      "metadata": {
        "id": "qlalKZ-a04c3"
      }
    },
    {
      "cell_type": "code",
      "source": [
        "model.evaluate(x_test, y_test) # 과적합(overfitting) 일어났다."
      ],
      "metadata": {
        "id": "uHGyMlf60zng",
        "colab": {
          "base_uri": "https://localhost:8080/"
        },
        "outputId": "d3e36186-4238-4fc9-d3ac-923e2b671767"
      },
      "execution_count": 18,
      "outputs": [
        {
          "output_type": "stream",
          "name": "stdout",
          "text": [
            "2/2 [==============================] - 0s 10ms/step - loss: 0.1002 - accuracy: 0.9556\n"
          ]
        },
        {
          "output_type": "execute_result",
          "data": {
            "text/plain": [
              "[0.10022873431444168, 0.9555555582046509]"
            ]
          },
          "metadata": {},
          "execution_count": 18
        }
      ]
    },
    {
      "cell_type": "markdown",
      "source": [
        "#### **예측**\n",
        "\n",
        "```\n",
        "model.predict(x_test)\n",
        "```\n",
        "* `x_test` : 넘파이 혹은 텐서 형식의 인풋 테스트 데이터\n",
        "* `y_test` : 넘파이 혹은 텐서 형식의 아웃풋 테스트 데이터"
      ],
      "metadata": {
        "id": "BITPUIOj07Uv"
      }
    },
    {
      "cell_type": "code",
      "source": [
        "y_pred = model.predict(x_test)\n",
        "print(y_test.shape, y_pred.shape)\n",
        "\n",
        "y_test_argmax = np.argmax(y_test, axis = 1) # 세개의 클래스 중 가장 큰 값 인덱스\n",
        "y_pred_argmax = np.argmax(y_pred, axis = 1) # 세개의 클래스 중 가장 큰 값 인덱스\n",
        "for i in range(10):\n",
        "  print(f' {i}번째실제y : {y_test[i]}-{y_test_argmax[i]}, 예측 y : {y_pred_argmax[i]}')"
      ],
      "metadata": {
        "id": "KfDHL4PRv8YD",
        "colab": {
          "base_uri": "https://localhost:8080/"
        },
        "outputId": "377b07d6-58be-41e1-8312-eeba4171bbff"
      },
      "execution_count": 25,
      "outputs": [
        {
          "output_type": "stream",
          "name": "stdout",
          "text": [
            "(45, 3) (45, 3)\n",
            " 0번째실제y : [1. 0. 0.]-0, 예측 y : 0\n",
            " 1번째실제y : [0. 1. 0.]-1, 예측 y : 1\n",
            " 2번째실제y : [0. 1. 0.]-1, 예측 y : 1\n",
            " 3번째실제y : [1. 0. 0.]-0, 예측 y : 0\n",
            " 4번째실제y : [0. 0. 1.]-2, 예측 y : 2\n",
            " 5번째실제y : [0. 1. 0.]-1, 예측 y : 1\n",
            " 6번째실제y : [0. 0. 1.]-2, 예측 y : 2\n",
            " 7번째실제y : [1. 0. 0.]-0, 예측 y : 0\n",
            " 8번째실제y : [1. 0. 0.]-0, 예측 y : 0\n",
            " 9번째실제y : [0. 0. 1.]-2, 예측 y : 2\n"
          ]
        }
      ]
    },
    {
      "cell_type": "markdown",
      "source": [
        "* 예측 시각화"
      ],
      "metadata": {
        "id": "gThN4RCR0_HI"
      }
    },
    {
      "cell_type": "code",
      "source": [
        "from sklearn.metrics import confusion_matrix, ConfusionMatrixDisplay\n",
        "# 혼돈 행렬\n",
        "cm = confusion_matrix(y_test_argmax, y_pred_argmax)\n",
        "print(cm)\n",
        "ConfusionMatrixDisplay(cm).plot(cmap = 'PuBu_r')"
      ],
      "metadata": {
        "id": "TG533VyLwDaK",
        "colab": {
          "base_uri": "https://localhost:8080/",
          "height": 352
        },
        "outputId": "b4d31294-d3eb-4bb2-e887-1315d0ca8f5c"
      },
      "execution_count": 26,
      "outputs": [
        {
          "output_type": "stream",
          "name": "stdout",
          "text": [
            "[[14  0  0]\n",
            " [ 0 17  1]\n",
            " [ 0  1 12]]\n"
          ]
        },
        {
          "output_type": "execute_result",
          "data": {
            "text/plain": [
              "<sklearn.metrics._plot.confusion_matrix.ConfusionMatrixDisplay at 0x7fccd20f0fd0>"
            ]
          },
          "metadata": {},
          "execution_count": 26
        },
        {
          "output_type": "display_data",
          "data": {
            "text/plain": [
              "<Figure size 432x288 with 2 Axes>"
            ],
            "image/png": "[encoded data removed]"
          },
          "metadata": {
            "needs_background": "light"
          }
        }
      ]
    },
    {
      "cell_type": "markdown",
      "source": [
        "## 과제\n",
        "---"
      ],
      "metadata": {
        "id": "ZFrRTgcyipYg"
      }
    },
    {
      "cell_type": "markdown",
      "source": [
        "### | 과제1. 다중분류 문제 정리\n",
        "\n",
        "* 예측값의 범위 : 0~1\n",
        "* 예측값의 shape : (샘플 수, 클래스 갯수 ) \n",
        "* 아웃풋 레이어의 노드 개수 : 클래스 갯수\n",
        "* 아웃풋 레이어의 activation : softmax\n",
        "* 손실함수 (loss) : categorical_crossentropy\n",
        "* 평가함수 (metrics) : accuracy(정확도)"
      ],
      "metadata": {
        "id": "xjnJSLgXK_Pp"
      }
    },
    {
      "cell_type": "markdown",
      "source": [
        "### | 과제2. 한 셀에 코드 정리하기\n",
        "\n",
        "* 추가 연습\n",
        "  * 모델의 깊이(depth)를 늘려가며 학습해 보세요.\n",
        "  * 모델의 너비(width)를 늘려가며 학습해 보세요."
      ],
      "metadata": {
        "id": "ZvFAB78P1B_Q"
      }
    },
    {
      "cell_type": "code",
      "source": [
        "def build_model():\n",
        "  x = layers.Input(shape = (4))\n",
        "  y = layers.Dense(30, activation = 'relu')(x) #아웃풋 shape\n",
        "  y = layers.Dense(10, activation = 'relu')(y)\n",
        "  y = layers.Dense(7, activation = 'relu')(y)\n",
        "  y = layers.Dense(3, activation = 'softmax')(y)\n",
        "  model = models.Model(x, y) # 이진분류 문제 경우, 마지막 레이어에서 sigmoid 사용\n",
        " \n",
        "  return model\n",
        "\n",
        "model = build_model()\n",
        "model.summary()"
      ],
      "metadata": {
        "id": "v5WYSd9a1Cz4",
        "colab": {
          "base_uri": "https://localhost:8080/"
        },
        "outputId": "e0e786a4-3c35-497b-b910-066ee6979596"
      },
      "execution_count": 27,
      "outputs": [
        {
          "output_type": "stream",
          "name": "stdout",
          "text": [
            "Model: \"model_3\"\n",
            "_________________________________________________________________\n",
            " Layer (type)                Output Shape              Param #   \n",
            "=================================================================\n",
            " input_4 (InputLayer)        [(None, 4)]               0         \n",
            "                                                                 \n",
            " dense_8 (Dense)             (None, 30)                150       \n",
            "                                                                 \n",
            " dense_9 (Dense)             (None, 10)                310       \n",
            "                                                                 \n",
            " dense_10 (Dense)            (None, 7)                 77        \n",
            "                                                                 \n",
            " dense_11 (Dense)            (None, 3)                 24        \n",
            "                                                                 \n",
            "=================================================================\n",
            "Total params: 561\n",
            "Trainable params: 561\n",
            "Non-trainable params: 0\n",
            "_________________________________________________________________\n"
          ]
        }
      ]
    },
    {
      "cell_type": "markdown",
      "source": [
        "### | 과제 3. MNIST 숫자 데이터 분류\n",
        "\n",
        "```\n",
        "mnist = tf.keras.datasets.mnist\n",
        "(x_train, y_train), (x_test, y_test) = mnist.load_data()\n",
        "print(x_train.shape, y_train.shape, x_test.shape, y_test.shape)\n",
        "```"
      ],
      "metadata": {
        "id": "2K0mAdPzjOAf"
      }
    },
    {
      "cell_type": "code",
      "source": [
        "mnist = tf.keras.datasets.mnist\n",
        "(x_train, y_train), (x_test, y_test) = mnist.load_data()\n",
        "print(x_train.shape, y_train.shape, x_test.shape, y_test.shape)\n",
        "\n",
        "#정규화 (x에 대해서만 정규화) 이미지 데이터 : 0~255 -> 0~1\n",
        "x_train = x_train/255.0\n",
        "x_test = x_test/255.0"
      ],
      "metadata": {
        "id": "aMfhH4ojun0G",
        "colab": {
          "base_uri": "https://localhost:8080/"
        },
        "outputId": "3b24383f-e91a-48ef-8364-e77bc26a652f"
      },
      "execution_count": 37,
      "outputs": [
        {
          "output_type": "stream",
          "name": "stdout",
          "text": [
            "(60000, 28, 28) (60000,) (10000, 28, 28) (10000,)\n"
          ]
        }
      ]
    },
    {
      "cell_type": "markdown",
      "source": [
        "* 데이터 시각화"
      ],
      "metadata": {
        "id": "EOskN_eSMJNL"
      }
    },
    {
      "cell_type": "code",
      "source": [
        "for i in range(15):\n",
        "  img = x_train[i]\n",
        "  label = y_train[i]\n",
        "  plt.subplot(3,5, i+1)\n",
        "  plt.imshow(img, cmap='gray')\n",
        "  plt.title(label)\n",
        "  plt.xticks([]);plt.yticks([])"
      ],
      "metadata": {
        "id": "oYaA4aLuv7F4",
        "colab": {
          "base_uri": "https://localhost:8080/",
          "height": 262
        },
        "outputId": "c0c25b41-f6da-4b6c-f19a-c8039a080bff"
      },
      "execution_count": 35,
      "outputs": [
        {
          "output_type": "display_data",
          "data": {
            "text/plain": [
              "<Figure size 432x288 with 15 Axes>"
            ],
            "image/png": "[encoded data removed]"
          },
          "metadata": {}
        }
      ]
    },
    {
      "cell_type": "markdown",
      "source": [
        "### | 모델\n",
        "\n",
        "\n",
        "<p align='center'>\n",
        "<img src=https://github.com/yebiny/SkillTreePython-DeepLearning/blob/main/imgs/ch0105-03.PNG?raw=true width=500>\n",
        "</p>\n"
      ],
      "metadata": {
        "id": "po1mICbWv48p"
      }
    },
    {
      "cell_type": "markdown",
      "source": [
        "#### **모델 생성**"
      ],
      "metadata": {
        "id": "C_gpuC1Ev48p"
      }
    },
    {
      "cell_type": "code",
      "source": [
        "from tensorflow.keras import models, layers, utils\n",
        "# 4 -> 12 -> 8 -> 3\n",
        "\n",
        "def build_model():\n",
        "  x = layers.Input(shape = (28, 28))\n",
        "  y = layers.Flatten()(x)\n",
        "  # 중간층\n",
        "  y = layers.Dense(50, activation = 'relu')(y)\n",
        "  y = layers.Dense(30, activation = 'relu')(y)\n",
        "  y = layers.Dense(20, activation = 'relu')(y)\n",
        "  y = layers.Dense(15, activation = 'relu')(y)\n",
        "  y = layers.Dense(13, activation = 'relu')(y)\n",
        "  y = layers.Dense(10, activation = 'softmax')(y) # 마지막 레이어에서 softmax 사용\n",
        "  model = models.Model(x, y) \n",
        " \n",
        "  return model\n",
        "\n",
        "model = build_model()\n",
        "model.summary()"
      ],
      "metadata": {
        "id": "bDFZF-9Jv48q",
        "colab": {
          "base_uri": "https://localhost:8080/"
        },
        "outputId": "2e93865b-2f25-4227-dda1-a087361049f0"
      },
      "execution_count": 67,
      "outputs": [
        {
          "output_type": "stream",
          "name": "stdout",
          "text": [
            "Model: \"model_13\"\n",
            "_________________________________________________________________\n",
            " Layer (type)                Output Shape              Param #   \n",
            "=================================================================\n",
            " input_15 (InputLayer)       [(None, 28, 28)]          0         \n",
            "                                                                 \n",
            " flatten_14 (Flatten)        (None, 784)               0         \n",
            "                                                                 \n",
            " dense_43 (Dense)            (None, 50)                39250     \n",
            "                                                                 \n",
            " dense_44 (Dense)            (None, 30)                1530      \n",
            "                                                                 \n",
            " dense_45 (Dense)            (None, 20)                620       \n",
            "                                                                 \n",
            " dense_46 (Dense)            (None, 15)                315       \n",
            "                                                                 \n",
            " dense_47 (Dense)            (None, 13)                208       \n",
            "                                                                 \n",
            " dense_48 (Dense)            (None, 10)                140       \n",
            "                                                                 \n",
            "=================================================================\n",
            "Total params: 42,063\n",
            "Trainable params: 42,063\n",
            "Non-trainable params: 0\n",
            "_________________________________________________________________\n"
          ]
        }
      ]
    },
    {
      "cell_type": "markdown",
      "source": [
        "#### **모델 시각화**\n",
        "\n",
        "* `model.summary()`\n",
        "* `utils.plot_model()`"
      ],
      "metadata": {
        "id": "nopDIQEiv48q"
      }
    },
    {
      "cell_type": "code",
      "source": [
        "model = build_model()\n",
        "model.summary()"
      ],
      "metadata": {
        "id": "rXzVjMLpv48q",
        "colab": {
          "base_uri": "https://localhost:8080/"
        },
        "outputId": "7a4d4a36-288e-4021-fd93-f2f20fecb90f"
      },
      "execution_count": 68,
      "outputs": [
        {
          "output_type": "stream",
          "name": "stdout",
          "text": [
            "Model: \"model_14\"\n",
            "_________________________________________________________________\n",
            " Layer (type)                Output Shape              Param #   \n",
            "=================================================================\n",
            " input_16 (InputLayer)       [(None, 28, 28)]          0         \n",
            "                                                                 \n",
            " flatten_15 (Flatten)        (None, 784)               0         \n",
            "                                                                 \n",
            " dense_49 (Dense)            (None, 50)                39250     \n",
            "                                                                 \n",
            " dense_50 (Dense)            (None, 30)                1530      \n",
            "                                                                 \n",
            " dense_51 (Dense)            (None, 20)                620       \n",
            "                                                                 \n",
            " dense_52 (Dense)            (None, 15)                315       \n",
            "                                                                 \n",
            " dense_53 (Dense)            (None, 13)                208       \n",
            "                                                                 \n",
            " dense_54 (Dense)            (None, 10)                140       \n",
            "                                                                 \n",
            "=================================================================\n",
            "Total params: 42,063\n",
            "Trainable params: 42,063\n",
            "Non-trainable params: 0\n",
            "_________________________________________________________________\n"
          ]
        }
      ]
    },
    {
      "cell_type": "markdown",
      "source": [
        "### | 학습"
      ],
      "metadata": {
        "id": "mwtIo0te0dvn"
      }
    },
    {
      "cell_type": "markdown",
      "source": [
        "#### **모델 컴파일**\n",
        "\n",
        "```\n",
        "model.compile(loss, optimizer, metrics) \n",
        "```\n",
        "* `loss` : \\\n",
        "  *sparse_categorical_crossentropy : 원하는 인코딩을 안했을 때 사용가능\n",
        "* `optimizer` : \n",
        "* `metrics`: \n"
      ],
      "metadata": {
        "id": "BEN3BQFF0dvt"
      }
    },
    {
      "cell_type": "code",
      "source": [
        "model.compile(loss = 'sparse_categorical_crossentropy',\n",
        "              optimizer = 'adam',\n",
        "              metrics = ['accuracy'])"
      ],
      "metadata": {
        "id": "RhuM6-_f0dvt"
      },
      "execution_count": 69,
      "outputs": []
    },
    {
      "cell_type": "markdown",
      "source": [
        "#### **학습**\n",
        "\n",
        "```\n",
        "model.fit(x_train, y_train, epochs, batch_size)\n",
        "```\n",
        "* `x_train` : 넘파이 혹은 텐서 형식의 인풋 데이터\n",
        "* `y_train` : 넘파이 혹은 텐서 형식의 아웃풋 데이터\n",
        "* `epochs` : 학습 횟수\n",
        "* `batch_size` : 배치 사이즈 ((업데이트 한번에 사용될 샘플 개수)"
      ],
      "metadata": {
        "id": "weF5ryop0dvt"
      }
    },
    {
      "cell_type": "code",
      "source": [
        "model.fit(x_train, y_train, epochs=10, batch_size=16)"
      ],
      "metadata": {
        "id": "URyV2ICw0dvt",
        "colab": {
          "base_uri": "https://localhost:8080/"
        },
        "outputId": "0cc84fba-6860-4f74-c313-b04f9100ac67"
      },
      "execution_count": 70,
      "outputs": [
        {
          "output_type": "stream",
          "name": "stdout",
          "text": [
            "Epoch 1/10\n",
            "3750/3750 [==============================] - 9s 2ms/step - loss: 0.3780 - accuracy: 0.8861\n",
            "Epoch 2/10\n",
            "3750/3750 [==============================] - 9s 2ms/step - loss: 0.1639 - accuracy: 0.9524\n",
            "Epoch 3/10\n",
            "3750/3750 [==============================] - 9s 2ms/step - loss: 0.1251 - accuracy: 0.9625\n",
            "Epoch 4/10\n",
            "3750/3750 [==============================] - 9s 2ms/step - loss: 0.1044 - accuracy: 0.9687\n",
            "Epoch 5/10\n",
            "3750/3750 [==============================] - 9s 2ms/step - loss: 0.0893 - accuracy: 0.9737\n",
            "Epoch 6/10\n",
            "3750/3750 [==============================] - 9s 2ms/step - loss: 0.0780 - accuracy: 0.9768\n",
            "Epoch 7/10\n",
            "3750/3750 [==============================] - 9s 2ms/step - loss: 0.0682 - accuracy: 0.9793\n",
            "Epoch 8/10\n",
            "3750/3750 [==============================] - 9s 2ms/step - loss: 0.0623 - accuracy: 0.9814\n",
            "Epoch 9/10\n",
            "3750/3750 [==============================] - 10s 3ms/step - loss: 0.0559 - accuracy: 0.9825\n",
            "Epoch 10/10\n",
            "3750/3750 [==============================] - 9s 2ms/step - loss: 0.0507 - accuracy: 0.9843\n"
          ]
        },
        {
          "output_type": "execute_result",
          "data": {
            "text/plain": [
              "<keras.callbacks.History at 0x7fccb9ed0610>"
            ]
          },
          "metadata": {},
          "execution_count": 70
        }
      ]
    },
    {
      "cell_type": "markdown",
      "source": [
        "### | 검증 및 예측\n"
      ],
      "metadata": {
        "id": "4UIAL_HA0dvt"
      }
    },
    {
      "cell_type": "markdown",
      "source": [
        "#### **검증**\n",
        "\n",
        "```\n",
        "model.evaluate(x_test, y_test)\n",
        "```\n",
        "* `x_test` : 넘파이 혹은 텐서 형식의 인풋 테스트 데이터\n",
        "* `y_test` : 넘파이 혹은 텐서 형식의 아웃풋 테스트 데이터"
      ],
      "metadata": {
        "id": "JNcvTwyU0dvt"
      }
    },
    {
      "cell_type": "code",
      "source": [
        "model.evaluate(x_test, y_test)"
      ],
      "metadata": {
        "id": "blrfzkKN0dvu",
        "colab": {
          "base_uri": "https://localhost:8080/"
        },
        "outputId": "473df1b8-e8f1-45d1-c12a-30e3840249df"
      },
      "execution_count": 71,
      "outputs": [
        {
          "output_type": "stream",
          "name": "stdout",
          "text": [
            "313/313 [==============================] - 1s 2ms/step - loss: 0.1008 - accuracy: 0.9729\n"
          ]
        },
        {
          "output_type": "execute_result",
          "data": {
            "text/plain": [
              "[0.10076197236776352, 0.9728999733924866]"
            ]
          },
          "metadata": {},
          "execution_count": 71
        }
      ]
    },
    {
      "cell_type": "markdown",
      "source": [
        "#### **예측**\n",
        "\n",
        "```\n",
        "model.predict(x_test)\n",
        "```\n",
        "* `x_test` : 넘파이 혹은 텐서 형식의 인풋 테스트 데이터\n",
        "* `y_test` : 넘파이 혹은 텐서 형식의 아웃풋 테스트 데이터"
      ],
      "metadata": {
        "id": "4IHDLt-D0dvu"
      }
    },
    {
      "cell_type": "code",
      "source": [
        "y_pred = model.predict(x_test)\n",
        "print(y_test.shape, y_pred.shape)\n",
        "y_pred_argmax = np.argmax(y_pred, axis = 1) # 세개의 클래스 중 가장 큰 값 인덱스\n",
        "for i in range(10):\n",
        "  print(f' {i}번째실제y : {y_test[i]}-{y_test_argmax[i]}, 예측 y : {y_pred_argmax[i]}')"
      ],
      "metadata": {
        "id": "P2lPLl970dvu",
        "colab": {
          "base_uri": "https://localhost:8080/"
        },
        "outputId": "14ab7d20-15a0-42bb-ff9e-60fa5d9f4ce6"
      },
      "execution_count": 72,
      "outputs": [
        {
          "output_type": "stream",
          "name": "stdout",
          "text": [
            "(10000,) (10000, 10)\n",
            " 0번째실제y : 7-0, 예측 y : 7\n",
            " 1번째실제y : 2-1, 예측 y : 2\n",
            " 2번째실제y : 1-1, 예측 y : 1\n",
            " 3번째실제y : 0-0, 예측 y : 0\n",
            " 4번째실제y : 4-2, 예측 y : 4\n",
            " 5번째실제y : 1-1, 예측 y : 1\n",
            " 6번째실제y : 4-2, 예측 y : 4\n",
            " 7번째실제y : 9-0, 예측 y : 9\n",
            " 8번째실제y : 5-0, 예측 y : 5\n",
            " 9번째실제y : 9-2, 예측 y : 9\n"
          ]
        }
      ]
    },
    {
      "cell_type": "markdown",
      "source": [
        "* 예측 시각화"
      ],
      "metadata": {
        "id": "xyDfuLj-0dvu"
      }
    },
    {
      "cell_type": "code",
      "source": [
        "from sklearn.metrics import confusion_matrix, ConfusionMatrixDisplay\n",
        "# 혼돈 행렬\n",
        "cm = confusion_matrix(y_test, y_pred_argmax)\n",
        "print(cm)\n",
        "ConfusionMatrixDisplay(cm).plot(cmap = 'PuBu_r')"
      ],
      "metadata": {
        "id": "GrBlEHxm0dvu",
        "colab": {
          "base_uri": "https://localhost:8080/",
          "height": 480
        },
        "outputId": "8738ea4d-0d6b-404b-f39d-60c8f982c5fa"
      },
      "execution_count": 74,
      "outputs": [
        {
          "output_type": "stream",
          "name": "stdout",
          "text": [
            "[[ 966    1    1    1    0    1    4    1    4    1]\n",
            " [   0 1126    2    1    0    0    1    2    3    0]\n",
            " [   7    1 1001    4    2    0    2    6    8    1]\n",
            " [   0    0    5  992    0    5    0    4    4    0]\n",
            " [   3    0    3    0  955    0    5    2    1   13]\n",
            " [   4    0    2   19    0  857    3    1    4    2]\n",
            " [   5    2    2    0    4    6  935    1    3    0]\n",
            " [   2    3    8    8    0    0    0  999    2    6]\n",
            " [   3    1   10    6    0    5    2    3  942    2]\n",
            " [   2    4    0    9   12   15    1    9    1  956]]\n"
          ]
        },
        {
          "output_type": "execute_result",
          "data": {
            "text/plain": [
              "<sklearn.metrics._plot.confusion_matrix.ConfusionMatrixDisplay at 0x7fccb9a93ed0>"
            ]
          },
          "metadata": {},
          "execution_count": 74
        },
        {
          "output_type": "display_data",
          "data": {
            "text/plain": [
              "<Figure size 432x288 with 2 Axes>"
            ],
            "image/png": "[encoded data removed]"
          },
          "metadata": {
            "needs_background": "light"
          }
        }
      ]
    },
    {
      "cell_type": "markdown",
      "source": [
        "* 모델 활용"
      ],
      "metadata": {
        "id": "4-APLR7G2Dep"
      }
    },
    {
      "cell_type": "code",
      "source": [
        "idx = 8 # n번째 샘플\n",
        "img = x_test[idx]\n",
        "label = y_test[idx]\n",
        "pred = y_pred[idx] # [0.1,0.7,0.2 ...]\n",
        "pred_argmax = y_pred_argmax[idx] # 1\n",
        "plt.subplot(121);plt.imshow(img, cmap ='gray');plt.title(f'정답 : label')\n",
        "plt.subplot(122);plt.bar(range(10), pred);plt.xticks(range(10))\n",
        "plt.show()"
      ],
      "metadata": {
        "id": "3e_9LSrE0wbl",
        "colab": {
          "base_uri": "https://localhost:8080/",
          "height": 415
        },
        "outputId": "7412d7b2-ee7a-438a-fe76-cf18b244bb0f"
      },
      "execution_count": 84,
      "outputs": [
        {
          "output_type": "stream",
          "name": "stderr",
          "text": [
            "/usr/local/lib/python3.7/dist-packages/matplotlib/backends/backend_agg.py:214: RuntimeWarning: Glyph 51221 missing from current font.\n",
            "  font.set_text(s, 0.0, flags=flags)\n",
            "/usr/local/lib/python3.7/dist-packages/matplotlib/backends/backend_agg.py:214: RuntimeWarning: Glyph 45813 missing from current font.\n",
            "  font.set_text(s, 0.0, flags=flags)\n",
            "/usr/local/lib/python3.7/dist-packages/matplotlib/backends/backend_agg.py:183: RuntimeWarning: Glyph 51221 missing from current font.\n",
            "  font.set_text(s, 0, flags=flags)\n",
            "/usr/local/lib/python3.7/dist-packages/matplotlib/backends/backend_agg.py:183: RuntimeWarning: Glyph 45813 missing from current font.\n",
            "  font.set_text(s, 0, flags=flags)\n"
          ]
        },
        {
          "output_type": "display_data",
          "data": {
            "text/plain": [
              "<Figure size 432x288 with 2 Axes>"
            ],
            "image/png": "[encoded data removed]"
          },
          "metadata": {
            "needs_background": "light"
          }
        }
      ]
    },
    {
      "cell_type": "code",
      "source": [
        ""
      ],
      "metadata": {
        "id": "sCp8tPhh2G14"
      },
      "execution_count": null,
      "outputs": []
    }
  ]
}