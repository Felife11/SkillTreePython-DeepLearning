{
  "nbformat": 4,
  "nbformat_minor": 0,
  "metadata": {
    "colab": {
      "name": "ch01_04_DNN기초-이진분류모델.ipynb",
      "provenance": [],
      "collapsed_sections": [],
      "include_colab_link": true
    },
    "kernelspec": {
      "name": "python3",
      "display_name": "Python 3"
    },
    "language_info": {
      "name": "python"
    },
    "accelerator": "GPU",
    "gpuClass": "standard"
  },
  "cells": [
    {
      "cell_type": "markdown",
      "metadata": {
        "id": "view-in-github",
        "colab_type": "text"
      },
      "source": [
        "<a href=\"https://colab.research.google.com/github/Felife11/SkillTreePython-DeepLearning/blob/main/01.%EB%94%A5%EB%9F%AC%EB%8B%9Dwith%ED%85%90%EC%84%9C%ED%94%8C%EB%A1%9C%EC%9A%B0-basic/ch01_04_DNN%EA%B8%B0%EC%B4%88_%EC%9D%B4%EC%A7%84%EB%B6%84%EB%A5%98%EB%AA%A8%EB%8D%B8.ipynb\" target=\"_parent\"><img src=\"https://colab.research.google.com/assets/colab-badge.svg\" alt=\"Open In Colab\"/></a>"
      ]
    },
    {
      "cell_type": "markdown",
      "source": [
        "# ch01.04 DNN기초 - 이진분류 모델\n",
        "\n",
        "\n",
        "---\n",
        "* 날짜: 2022.07.01\n",
        "* 이름: 정성대\n",
        "\n",
        "## 학습내용\n",
        "    - 딥러닝을 이용한 이진분류 모델 구현\n",
        "    - 적절한 손실함수와 최적화 함수 정의\n",
        "    - 평가 및 예측\n",
        "\n",
        "## 학습자료\n",
        "\n",
        "* 모두의딥러닝 11장, 13장\n",
        "* 데이터\n",
        "  * `sornar.csv`\n",
        "  * `pima-indians-diabetes.csv`\n",
        "\n",
        "\n",
        "```\n",
        "import numpy as np\n",
        "import pandas as pd\n",
        "import tensorflow as tf\n",
        "import matplotlib.pyplot as plt\n",
        "import seaborn as sns\n",
        "seed=1\n",
        "np.random.seed(seed)\n",
        "tf.random.set_seed(seed)\n",
        "```\n",
        "\n",
        "```\n",
        "https://github.com/yebiny/SkillTreePython-DeepLearning.git\n",
        "```"
      ],
      "metadata": {
        "id": "sWs2kEC1_b-P"
      }
    },
    {
      "cell_type": "code",
      "source": [
        "import numpy as np\n",
        "import pandas as pd\n",
        "import tensorflow as tf\n",
        "import matplotlib.pyplot as plt\n",
        "import seaborn as sns\n",
        "seed=1\n",
        "np.random.seed(seed)\n",
        "tf.random.set_seed(seed)"
      ],
      "metadata": {
        "id": "3dvXKSSnDQ9V"
      },
      "execution_count": 1,
      "outputs": []
    },
    {
      "cell_type": "code",
      "source": [
        "! git clone https://github.com/yebiny/SkillTreePython-DeepLearning.git"
      ],
      "metadata": {
        "id": "VIgPnWNbUt_X",
        "colab": {
          "base_uri": "https://localhost:8080/"
        },
        "outputId": "3a6c61b2-5666-4df2-fea3-922256e06767"
      },
      "execution_count": 2,
      "outputs": [
        {
          "output_type": "stream",
          "name": "stdout",
          "text": [
            "Cloning into 'SkillTreePython-DeepLearning'...\n",
            "remote: Enumerating objects: 322, done.\u001b[K\n",
            "remote: Counting objects: 100% (144/144), done.\u001b[K\n",
            "remote: Compressing objects: 100% (80/80), done.\u001b[K\n",
            "remote: Total 322 (delta 94), reused 88 (delta 64), pack-reused 178\u001b[K\n",
            "Receiving objects: 100% (322/322), 22.21 MiB | 8.74 MiB/s, done.\n",
            "Resolving deltas: 100% (129/129), done.\n"
          ]
        }
      ]
    },
    {
      "cell_type": "markdown",
      "source": [
        "## 소나 데이터 광물 예측\n",
        "---\n",
        "\n",
        "> 1988년 존스홉킨스 대학교의 세즈노프스키(Sejnowski) 교수는 광석과 일반 돌을 가져다 놓고 음파 탐지기를 쏜 후 그 결과를 데이터를 정리했습니다. 신경망이 광석과 돌을 얼마나 잘 구분하는지 알아보도록 합시다.\n",
        "\n",
        "```\n",
        "- 0~59 : 음파 탐지기를 이용해 얻은 값\n",
        "- 60: 광석 구분 {R, M}\n",
        "```\n",
        "<p align='center'>\n",
        "<img src=https://github.com/yebiny/SkillTreePython-DeepLearning/blob/main/imgs/ch0104-01.PNG?raw=true width=450>\n",
        "</p>\n",
        "\n",
        "\n"
      ],
      "metadata": {
        "id": "KOmt3w8_rVe2"
      }
    },
    {
      "cell_type": "markdown",
      "source": [
        "### | 데이터 준비"
      ],
      "metadata": {
        "id": "TmgkVAdIfngb"
      }
    },
    {
      "cell_type": "markdown",
      "source": [
        "#### **데이터 로드**\n",
        "* `sonar.csv`"
      ],
      "metadata": {
        "id": "cHXodXKif2BB"
      }
    },
    {
      "cell_type": "code",
      "execution_count": 8,
      "metadata": {
        "id": "2sh64rMrANLD",
        "colab": {
          "base_uri": "https://localhost:8080/",
          "height": 442
        },
        "outputId": "3f634776-6c2a-4a05-ef53-b5cb746ebf70"
      },
      "outputs": [
        {
          "output_type": "stream",
          "name": "stdout",
          "text": [
            "(208, 61)\n"
          ]
        },
        {
          "output_type": "execute_result",
          "data": {
            "text/plain": [
              "         0       1       2       3       4       5       6       7       8   \\\n",
              "0    0.0200  0.0371  0.0428  0.0207  0.0954  0.0986  0.1539  0.1601  0.3109   \n",
              "1    0.0453  0.0523  0.0843  0.0689  0.1183  0.2583  0.2156  0.3481  0.3337   \n",
              "2    0.0262  0.0582  0.1099  0.1083  0.0974  0.2280  0.2431  0.3771  0.5598   \n",
              "3    0.0100  0.0171  0.0623  0.0205  0.0205  0.0368  0.1098  0.1276  0.0598   \n",
              "4    0.0762  0.0666  0.0481  0.0394  0.0590  0.0649  0.1209  0.2467  0.3564   \n",
              "..      ...     ...     ...     ...     ...     ...     ...     ...     ...   \n",
              "203  0.0187  0.0346  0.0168  0.0177  0.0393  0.1630  0.2028  0.1694  0.2328   \n",
              "204  0.0323  0.0101  0.0298  0.0564  0.0760  0.0958  0.0990  0.1018  0.1030   \n",
              "205  0.0522  0.0437  0.0180  0.0292  0.0351  0.1171  0.1257  0.1178  0.1258   \n",
              "206  0.0303  0.0353  0.0490  0.0608  0.0167  0.1354  0.1465  0.1123  0.1945   \n",
              "207  0.0260  0.0363  0.0136  0.0272  0.0214  0.0338  0.0655  0.1400  0.1843   \n",
              "\n",
              "         9   ...      51      52      53      54      55      56      57  \\\n",
              "0    0.2111  ...  0.0027  0.0065  0.0159  0.0072  0.0167  0.0180  0.0084   \n",
              "1    0.2872  ...  0.0084  0.0089  0.0048  0.0094  0.0191  0.0140  0.0049   \n",
              "2    0.6194  ...  0.0232  0.0166  0.0095  0.0180  0.0244  0.0316  0.0164   \n",
              "3    0.1264  ...  0.0121  0.0036  0.0150  0.0085  0.0073  0.0050  0.0044   \n",
              "4    0.4459  ...  0.0031  0.0054  0.0105  0.0110  0.0015  0.0072  0.0048   \n",
              "..      ...  ...     ...     ...     ...     ...     ...     ...     ...   \n",
              "203  0.2684  ...  0.0116  0.0098  0.0199  0.0033  0.0101  0.0065  0.0115   \n",
              "204  0.2154  ...  0.0061  0.0093  0.0135  0.0063  0.0063  0.0034  0.0032   \n",
              "205  0.2529  ...  0.0160  0.0029  0.0051  0.0062  0.0089  0.0140  0.0138   \n",
              "206  0.2354  ...  0.0086  0.0046  0.0126  0.0036  0.0035  0.0034  0.0079   \n",
              "207  0.2354  ...  0.0146  0.0129  0.0047  0.0039  0.0061  0.0040  0.0036   \n",
              "\n",
              "         58      59  60  \n",
              "0    0.0090  0.0032   R  \n",
              "1    0.0052  0.0044   R  \n",
              "2    0.0095  0.0078   R  \n",
              "3    0.0040  0.0117   R  \n",
              "4    0.0107  0.0094   R  \n",
              "..      ...     ...  ..  \n",
              "203  0.0193  0.0157   M  \n",
              "204  0.0062  0.0067   M  \n",
              "205  0.0077  0.0031   M  \n",
              "206  0.0036  0.0048   M  \n",
              "207  0.0061  0.0115   M  \n",
              "\n",
              "[208 rows x 61 columns]"
            ],
            "text/html": [
              "\n",
              "  <div id=\"df-be9ed0f4-7a1b-425b-8395-bb6feb18ed58\">\n",
              "    <div class=\"colab-df-container\">\n",
              "      <div>\n",
              "<style scoped>\n",
              "    .dataframe tbody tr th:only-of-type {\n",
              "        vertical-align: middle;\n",
              "    }\n",
              "\n",
              "    .dataframe tbody tr th {\n",
              "        vertical-align: top;\n",
              "    }\n",
              "\n",
              "    .dataframe thead th {\n",
              "        text-align: right;\n",
              "    }\n",
              "</style>\n",
              "<table border=\"1\" class=\"dataframe\">\n",
              "  <thead>\n",
              "    <tr style=\"text-align: right;\">\n",
              "      <th></th>\n",
              "      <th>0</th>\n",
              "      <th>1</th>\n",
              "      <th>2</th>\n",
              "      <th>3</th>\n",
              "      <th>4</th>\n",
              "      <th>5</th>\n",
              "      <th>6</th>\n",
              "      <th>7</th>\n",
              "      <th>8</th>\n",
              "      <th>9</th>\n",
              "      <th>...</th>\n",
              "      <th>51</th>\n",
              "      <th>52</th>\n",
              "      <th>53</th>\n",
              "      <th>54</th>\n",
              "      <th>55</th>\n",
              "      <th>56</th>\n",
              "      <th>57</th>\n",
              "      <th>58</th>\n",
              "      <th>59</th>\n",
              "      <th>60</th>\n",
              "    </tr>\n",
              "  </thead>\n",
              "  <tbody>\n",
              "    <tr>\n",
              "      <th>0</th>\n",
              "      <td>0.0200</td>\n",
              "      <td>0.0371</td>\n",
              "      <td>0.0428</td>\n",
              "      <td>0.0207</td>\n",
              "      <td>0.0954</td>\n",
              "      <td>0.0986</td>\n",
              "      <td>0.1539</td>\n",
              "      <td>0.1601</td>\n",
              "      <td>0.3109</td>\n",
              "      <td>0.2111</td>\n",
              "      <td>...</td>\n",
              "      <td>0.0027</td>\n",
              "      <td>0.0065</td>\n",
              "      <td>0.0159</td>\n",
              "      <td>0.0072</td>\n",
              "      <td>0.0167</td>\n",
              "      <td>0.0180</td>\n",
              "      <td>0.0084</td>\n",
              "      <td>0.0090</td>\n",
              "      <td>0.0032</td>\n",
              "      <td>R</td>\n",
              "    </tr>\n",
              "    <tr>\n",
              "      <th>1</th>\n",
              "      <td>0.0453</td>\n",
              "      <td>0.0523</td>\n",
              "      <td>0.0843</td>\n",
              "      <td>0.0689</td>\n",
              "      <td>0.1183</td>\n",
              "      <td>0.2583</td>\n",
              "      <td>0.2156</td>\n",
              "      <td>0.3481</td>\n",
              "      <td>0.3337</td>\n",
              "      <td>0.2872</td>\n",
              "      <td>...</td>\n",
              "      <td>0.0084</td>\n",
              "      <td>0.0089</td>\n",
              "      <td>0.0048</td>\n",
              "      <td>0.0094</td>\n",
              "      <td>0.0191</td>\n",
              "      <td>0.0140</td>\n",
              "      <td>0.0049</td>\n",
              "      <td>0.0052</td>\n",
              "      <td>0.0044</td>\n",
              "      <td>R</td>\n",
              "    </tr>\n",
              "    <tr>\n",
              "      <th>2</th>\n",
              "      <td>0.0262</td>\n",
              "      <td>0.0582</td>\n",
              "      <td>0.1099</td>\n",
              "      <td>0.1083</td>\n",
              "      <td>0.0974</td>\n",
              "      <td>0.2280</td>\n",
              "      <td>0.2431</td>\n",
              "      <td>0.3771</td>\n",
              "      <td>0.5598</td>\n",
              "      <td>0.6194</td>\n",
              "      <td>...</td>\n",
              "      <td>0.0232</td>\n",
              "      <td>0.0166</td>\n",
              "      <td>0.0095</td>\n",
              "      <td>0.0180</td>\n",
              "      <td>0.0244</td>\n",
              "      <td>0.0316</td>\n",
              "      <td>0.0164</td>\n",
              "      <td>0.0095</td>\n",
              "      <td>0.0078</td>\n",
              "      <td>R</td>\n",
              "    </tr>\n",
              "    <tr>\n",
              "      <th>3</th>\n",
              "      <td>0.0100</td>\n",
              "      <td>0.0171</td>\n",
              "      <td>0.0623</td>\n",
              "      <td>0.0205</td>\n",
              "      <td>0.0205</td>\n",
              "      <td>0.0368</td>\n",
              "      <td>0.1098</td>\n",
              "      <td>0.1276</td>\n",
              "      <td>0.0598</td>\n",
              "      <td>0.1264</td>\n",
              "      <td>...</td>\n",
              "      <td>0.0121</td>\n",
              "      <td>0.0036</td>\n",
              "      <td>0.0150</td>\n",
              "      <td>0.0085</td>\n",
              "      <td>0.0073</td>\n",
              "      <td>0.0050</td>\n",
              "      <td>0.0044</td>\n",
              "      <td>0.0040</td>\n",
              "      <td>0.0117</td>\n",
              "      <td>R</td>\n",
              "    </tr>\n",
              "    <tr>\n",
              "      <th>4</th>\n",
              "      <td>0.0762</td>\n",
              "      <td>0.0666</td>\n",
              "      <td>0.0481</td>\n",
              "      <td>0.0394</td>\n",
              "      <td>0.0590</td>\n",
              "      <td>0.0649</td>\n",
              "      <td>0.1209</td>\n",
              "      <td>0.2467</td>\n",
              "      <td>0.3564</td>\n",
              "      <td>0.4459</td>\n",
              "      <td>...</td>\n",
              "      <td>0.0031</td>\n",
              "      <td>0.0054</td>\n",
              "      <td>0.0105</td>\n",
              "      <td>0.0110</td>\n",
              "      <td>0.0015</td>\n",
              "      <td>0.0072</td>\n",
              "      <td>0.0048</td>\n",
              "      <td>0.0107</td>\n",
              "      <td>0.0094</td>\n",
              "      <td>R</td>\n",
              "    </tr>\n",
              "    <tr>\n",
              "      <th>...</th>\n",
              "      <td>...</td>\n",
              "      <td>...</td>\n",
              "      <td>...</td>\n",
              "      <td>...</td>\n",
              "      <td>...</td>\n",
              "      <td>...</td>\n",
              "      <td>...</td>\n",
              "      <td>...</td>\n",
              "      <td>...</td>\n",
              "      <td>...</td>\n",
              "      <td>...</td>\n",
              "      <td>...</td>\n",
              "      <td>...</td>\n",
              "      <td>...</td>\n",
              "      <td>...</td>\n",
              "      <td>...</td>\n",
              "      <td>...</td>\n",
              "      <td>...</td>\n",
              "      <td>...</td>\n",
              "      <td>...</td>\n",
              "      <td>...</td>\n",
              "    </tr>\n",
              "    <tr>\n",
              "      <th>203</th>\n",
              "      <td>0.0187</td>\n",
              "      <td>0.0346</td>\n",
              "      <td>0.0168</td>\n",
              "      <td>0.0177</td>\n",
              "      <td>0.0393</td>\n",
              "      <td>0.1630</td>\n",
              "      <td>0.2028</td>\n",
              "      <td>0.1694</td>\n",
              "      <td>0.2328</td>\n",
              "      <td>0.2684</td>\n",
              "      <td>...</td>\n",
              "      <td>0.0116</td>\n",
              "      <td>0.0098</td>\n",
              "      <td>0.0199</td>\n",
              "      <td>0.0033</td>\n",
              "      <td>0.0101</td>\n",
              "      <td>0.0065</td>\n",
              "      <td>0.0115</td>\n",
              "      <td>0.0193</td>\n",
              "      <td>0.0157</td>\n",
              "      <td>M</td>\n",
              "    </tr>\n",
              "    <tr>\n",
              "      <th>204</th>\n",
              "      <td>0.0323</td>\n",
              "      <td>0.0101</td>\n",
              "      <td>0.0298</td>\n",
              "      <td>0.0564</td>\n",
              "      <td>0.0760</td>\n",
              "      <td>0.0958</td>\n",
              "      <td>0.0990</td>\n",
              "      <td>0.1018</td>\n",
              "      <td>0.1030</td>\n",
              "      <td>0.2154</td>\n",
              "      <td>...</td>\n",
              "      <td>0.0061</td>\n",
              "      <td>0.0093</td>\n",
              "      <td>0.0135</td>\n",
              "      <td>0.0063</td>\n",
              "      <td>0.0063</td>\n",
              "      <td>0.0034</td>\n",
              "      <td>0.0032</td>\n",
              "      <td>0.0062</td>\n",
              "      <td>0.0067</td>\n",
              "      <td>M</td>\n",
              "    </tr>\n",
              "    <tr>\n",
              "      <th>205</th>\n",
              "      <td>0.0522</td>\n",
              "      <td>0.0437</td>\n",
              "      <td>0.0180</td>\n",
              "      <td>0.0292</td>\n",
              "      <td>0.0351</td>\n",
              "      <td>0.1171</td>\n",
              "      <td>0.1257</td>\n",
              "      <td>0.1178</td>\n",
              "      <td>0.1258</td>\n",
              "      <td>0.2529</td>\n",
              "      <td>...</td>\n",
              "      <td>0.0160</td>\n",
              "      <td>0.0029</td>\n",
              "      <td>0.0051</td>\n",
              "      <td>0.0062</td>\n",
              "      <td>0.0089</td>\n",
              "      <td>0.0140</td>\n",
              "      <td>0.0138</td>\n",
              "      <td>0.0077</td>\n",
              "      <td>0.0031</td>\n",
              "      <td>M</td>\n",
              "    </tr>\n",
              "    <tr>\n",
              "      <th>206</th>\n",
              "      <td>0.0303</td>\n",
              "      <td>0.0353</td>\n",
              "      <td>0.0490</td>\n",
              "      <td>0.0608</td>\n",
              "      <td>0.0167</td>\n",
              "      <td>0.1354</td>\n",
              "      <td>0.1465</td>\n",
              "      <td>0.1123</td>\n",
              "      <td>0.1945</td>\n",
              "      <td>0.2354</td>\n",
              "      <td>...</td>\n",
              "      <td>0.0086</td>\n",
              "      <td>0.0046</td>\n",
              "      <td>0.0126</td>\n",
              "      <td>0.0036</td>\n",
              "      <td>0.0035</td>\n",
              "      <td>0.0034</td>\n",
              "      <td>0.0079</td>\n",
              "      <td>0.0036</td>\n",
              "      <td>0.0048</td>\n",
              "      <td>M</td>\n",
              "    </tr>\n",
              "    <tr>\n",
              "      <th>207</th>\n",
              "      <td>0.0260</td>\n",
              "      <td>0.0363</td>\n",
              "      <td>0.0136</td>\n",
              "      <td>0.0272</td>\n",
              "      <td>0.0214</td>\n",
              "      <td>0.0338</td>\n",
              "      <td>0.0655</td>\n",
              "      <td>0.1400</td>\n",
              "      <td>0.1843</td>\n",
              "      <td>0.2354</td>\n",
              "      <td>...</td>\n",
              "      <td>0.0146</td>\n",
              "      <td>0.0129</td>\n",
              "      <td>0.0047</td>\n",
              "      <td>0.0039</td>\n",
              "      <td>0.0061</td>\n",
              "      <td>0.0040</td>\n",
              "      <td>0.0036</td>\n",
              "      <td>0.0061</td>\n",
              "      <td>0.0115</td>\n",
              "      <td>M</td>\n",
              "    </tr>\n",
              "  </tbody>\n",
              "</table>\n",
              "<p>208 rows × 61 columns</p>\n",
              "</div>\n",
              "      <button class=\"colab-df-convert\" onclick=\"convertToInteractive('df-be9ed0f4-7a1b-425b-8395-bb6feb18ed58')\"\n",
              "              title=\"Convert this dataframe to an interactive table.\"\n",
              "              style=\"display:none;\">\n",
              "        \n",
              "  <svg xmlns=\"http://www.w3.org/2000/svg\" height=\"24px\"viewBox=\"0 0 24 24\"\n",
              "       width=\"24px\">\n",
              "    <path d=\"M0 0h24v24H0V0z\" fill=\"none\"/>\n",
              "    <path d=\"M18.56 5.44l.94 2.06.94-2.06 2.06-.94-2.06-.94-.94-2.06-.94 2.06-2.06.94zm-11 1L8.5 8.5l.94-2.06 2.06-.94-2.06-.94L8.5 2.5l-.94 2.06-2.06.94zm10 10l.94 2.06.94-2.06 2.06-.94-2.06-.94-.94-2.06-.94 2.06-2.06.94z\"/><path d=\"M17.41 7.96l-1.37-1.37c-.4-.4-.92-.59-1.43-.59-.52 0-1.04.2-1.43.59L10.3 9.45l-7.72 7.72c-.78.78-.78 2.05 0 2.83L4 21.41c.39.39.9.59 1.41.59.51 0 1.02-.2 1.41-.59l7.78-7.78 2.81-2.81c.8-.78.8-2.07 0-2.86zM5.41 20L4 18.59l7.72-7.72 1.47 1.35L5.41 20z\"/>\n",
              "  </svg>\n",
              "      </button>\n",
              "      \n",
              "  <style>\n",
              "    .colab-df-container {\n",
              "      display:flex;\n",
              "      flex-wrap:wrap;\n",
              "      gap: 12px;\n",
              "    }\n",
              "\n",
              "    .colab-df-convert {\n",
              "      background-color: #E8F0FE;\n",
              "      border: none;\n",
              "      border-radius: 50%;\n",
              "      cursor: pointer;\n",
              "      display: none;\n",
              "      fill: #1967D2;\n",
              "      height: 32px;\n",
              "      padding: 0 0 0 0;\n",
              "      width: 32px;\n",
              "    }\n",
              "\n",
              "    .colab-df-convert:hover {\n",
              "      background-color: #E2EBFA;\n",
              "      box-shadow: 0px 1px 2px rgba(60, 64, 67, 0.3), 0px 1px 3px 1px rgba(60, 64, 67, 0.15);\n",
              "      fill: #174EA6;\n",
              "    }\n",
              "\n",
              "    [theme=dark] .colab-df-convert {\n",
              "      background-color: #3B4455;\n",
              "      fill: #D2E3FC;\n",
              "    }\n",
              "\n",
              "    [theme=dark] .colab-df-convert:hover {\n",
              "      background-color: #434B5C;\n",
              "      box-shadow: 0px 1px 3px 1px rgba(0, 0, 0, 0.15);\n",
              "      filter: drop-shadow(0px 1px 2px rgba(0, 0, 0, 0.3));\n",
              "      fill: #FFFFFF;\n",
              "    }\n",
              "  </style>\n",
              "\n",
              "      <script>\n",
              "        const buttonEl =\n",
              "          document.querySelector('#df-be9ed0f4-7a1b-425b-8395-bb6feb18ed58 button.colab-df-convert');\n",
              "        buttonEl.style.display =\n",
              "          google.colab.kernel.accessAllowed ? 'block' : 'none';\n",
              "\n",
              "        async function convertToInteractive(key) {\n",
              "          const element = document.querySelector('#df-be9ed0f4-7a1b-425b-8395-bb6feb18ed58');\n",
              "          const dataTable =\n",
              "            await google.colab.kernel.invokeFunction('convertToInteractive',\n",
              "                                                     [key], {});\n",
              "          if (!dataTable) return;\n",
              "\n",
              "          const docLinkHtml = 'Like what you see? Visit the ' +\n",
              "            '<a target=\"_blank\" href=https://colab.research.google.com/notebooks/data_table.ipynb>data table notebook</a>'\n",
              "            + ' to learn more about interactive tables.';\n",
              "          element.innerHTML = '';\n",
              "          dataTable['output_type'] = 'display_data';\n",
              "          await google.colab.output.renderOutput(dataTable, element);\n",
              "          const docLink = document.createElement('div');\n",
              "          docLink.innerHTML = docLinkHtml;\n",
              "          element.appendChild(docLink);\n",
              "        }\n",
              "      </script>\n",
              "    </div>\n",
              "  </div>\n",
              "  "
            ]
          },
          "metadata": {},
          "execution_count": 8
        }
      ],
      "source": [
        "path = '/content/SkillTreePython-DeepLearning/dataset/sonar.csv'\n",
        "dataset = pd.read_csv(path, header =None)\n",
        "print(dataset.shape)\n",
        "dataset"
      ]
    },
    {
      "cell_type": "markdown",
      "source": [
        "#### **데이터 전처리**"
      ],
      "metadata": {
        "id": "0NL7LyHXrhoW"
      }
    },
    {
      "cell_type": "code",
      "source": [
        "from sklearn.preprocessing import StandardScaler, LabelEncoder #머신러닝 라이브러리\n",
        "from sklearn.model_selection import train_test_split\n",
        "\n",
        "def path2dataset_sonar(path):\n",
        "\n",
        "  # 불러오기\n",
        "  dataset =  pd.read_csv(path,  # 엑셀이나 csv 등 정현 데이터를 불러오기\n",
        "                       header=None, # 첫번째 샘플이 헤더로 읽히지 않도록 설정\n",
        "                       )  # 데이터 형식 : pandas의 데이터프레임\n",
        "  dataset = dataset.values # 데이터 형식 : 넘파이 배열로 변환\n",
        "  # x-y 분할 -> 넘파이 배열을 슬라이싱하는 기법\n",
        "  x = dataset[:, 0:-1] # ( : 모든행, 첫번째부터 마지막 전까지의 열)\n",
        "  y = dataset[:, -1] # ( : 모든행, 마지막열)\n",
        "\n",
        "  # 정규화(속셩별로 데이터의 스케일을 조정) -  x데이터에만 해준다\n",
        "  scaler = StandardScaler()\n",
        "  x = dataset = scaler.fit_transform(x)\n",
        "\n",
        "  # 라벨링 : y {R,M} -> {0,1}\n",
        "  labeling = LabelEncoder()\n",
        "  y = labeling.fit_transform(y)\n",
        "  print(labeling.classes_)\n",
        "  # train-test 분할\n",
        "  x_train, x_test, y_train, y_test = train_test_split(x, y, test_size =  0.3)\n",
        "  \n",
        "  return x_train, x_test, y_train, y_test\n",
        "path = '/content/SkillTreePython-DeepLearning/dataset/sonar.csv'\n",
        "x_train, x_test, y_train, y_test = path2dataset_sonar(path)\n",
        "print(x_train.shape, x_test.shape, y_train.shape, y_test.shape)\n",
        "print(f'첫번째 샘플 x : {x_train[0]}')\n",
        "print(f'첫번째 샘플 y : {y_train[0]}')"
      ],
      "metadata": {
        "id": "CoWLi5NgraBV",
        "colab": {
          "base_uri": "https://localhost:8080/"
        },
        "outputId": "de9273f5-c414-4858-e8a8-bdf06e89a242"
      },
      "execution_count": 17,
      "outputs": [
        {
          "output_type": "stream",
          "name": "stdout",
          "text": [
            "['M' 'R']\n",
            "(145, 60) (63, 60) (145,) (63,)\n",
            "첫번째 샘플 x : [-1.0273968  -0.35694414 -0.56689336  0.04756319  0.33197591  0.17010288\n",
            " -0.82977471 -0.41436351 -0.09062387 -0.16674446  0.09130188  0.15013322\n",
            "  0.14289792 -0.20032031 -0.64509782 -1.02540598 -0.8104515  -0.73215157\n",
            " -0.88205229 -0.87186496 -0.87893535 -0.87741369 -0.54322719  0.05594715\n",
            "  0.30112694  0.35677682  0.81588394  1.2931211   1.02943366  0.31864826\n",
            "  0.48634897  0.03412697 -0.59422464 -0.99847476 -0.94299069 -1.1566019\n",
            " -0.78052411 -0.94820916 -0.43001748 -0.59813617 -0.54043534 -0.00293051\n",
            " -0.78496122 -1.09479459 -0.86492896  0.04392265  0.67148716  0.53120002\n",
            " -0.00916838 -1.17546161  0.20294926 -0.64720859 -0.73958244 -0.48616666\n",
            " -0.35221828  0.0311702  -0.71387706 -0.85974694 -0.73645375 -1.15706054]\n",
            "첫번째 샘플 y : 0\n"
          ]
        }
      ]
    },
    {
      "cell_type": "markdown",
      "source": [
        "* 예측값 분포 확인"
      ],
      "metadata": {
        "id": "J49Ys-SNBKyS"
      }
    },
    {
      "cell_type": "code",
      "source": [
        "sns.countplot(x= dataset[60])"
      ],
      "metadata": {
        "id": "3vlsRwuoBMcY",
        "colab": {
          "base_uri": "https://localhost:8080/",
          "height": 297
        },
        "outputId": "88ec714c-b1b5-4512-909c-e803cf5d4cb1"
      },
      "execution_count": 9,
      "outputs": [
        {
          "output_type": "execute_result",
          "data": {
            "text/plain": [
              "<matplotlib.axes._subplots.AxesSubplot at 0x7f6815e583d0>"
            ]
          },
          "metadata": {},
          "execution_count": 9
        },
        {
          "output_type": "display_data",
          "data": {
            "text/plain": [
              "<Figure size 432x288 with 1 Axes>"
            ],
            "image/png": "[encoded data removed]"
          },
          "metadata": {
            "needs_background": "light"
          }
        }
      ]
    },
    {
      "cell_type": "markdown",
      "source": [
        "### | 모델\n",
        "\n",
        "\n",
        "<p align='center'>\n",
        "<img src=https://github.com/yebiny/SkillTreePython-DeepLearning/blob/main/imgs/ch0104-02.PNG?raw=true width=500>\n",
        "</p>\n"
      ],
      "metadata": {
        "id": "DHshtWB9r0be"
      }
    },
    {
      "cell_type": "markdown",
      "source": [
        "#### **모델 생성**"
      ],
      "metadata": {
        "id": "J94jFpWyr2k9"
      }
    },
    {
      "cell_type": "code",
      "source": [
        "import tensorflow as tf\n",
        "from tensorflow.keras import layers, models, utils\n",
        "import numpy as np\n",
        "tf.__version__"
      ],
      "metadata": {
        "id": "5BZG1z90rsGc",
        "colab": {
          "base_uri": "https://localhost:8080/",
          "height": 35
        },
        "outputId": "01bfdb27-80b5-4ee0-fbd9-3e2b57bf46cf"
      },
      "execution_count": 28,
      "outputs": [
        {
          "output_type": "execute_result",
          "data": {
            "text/plain": [
              "'2.8.2'"
            ],
            "application/vnd.google.colaboratory.intrinsic+json": {
              "type": "string"
            }
          },
          "metadata": {},
          "execution_count": 28
        }
      ]
    },
    {
      "cell_type": "code",
      "source": [
        "def build_model():\n",
        "  x = layers.Input(shape = (60))\n",
        "  y = layers.Dense(30, activation = 'relu')(x) #아웃풋 shape\n",
        "  y = layers.Dense(1, activation = 'sigmoid')(y)\n",
        "  model = models.Model(x, y) # 이진분류 문제 경우, 마지막 레이어에서 sigmoid 사용\n",
        " \n",
        "  return model"
      ],
      "metadata": {
        "id": "hKVOjanoGT3H"
      },
      "execution_count": 40,
      "outputs": []
    },
    {
      "cell_type": "markdown",
      "source": [
        "#### **모델 시각화**\n",
        "\n",
        "* `model.summary()`\n",
        "* `utils.plot_model()`"
      ],
      "metadata": {
        "id": "1yqXLbEyx5QK"
      }
    },
    {
      "cell_type": "code",
      "source": [
        "model = build_model()\n",
        "model.summary()\n"
      ],
      "metadata": {
        "id": "dKCT38Fsr6dF",
        "colab": {
          "base_uri": "https://localhost:8080/"
        },
        "outputId": "88054a3a-9039-42c5-d141-a369e9062187"
      },
      "execution_count": 41,
      "outputs": [
        {
          "output_type": "stream",
          "name": "stdout",
          "text": [
            "Model: \"model_4\"\n",
            "_________________________________________________________________\n",
            " Layer (type)                Output Shape              Param #   \n",
            "=================================================================\n",
            " input_5 (InputLayer)        [(None, 60)]              0         \n",
            "                                                                 \n",
            " dense_8 (Dense)             (None, 30)                1830      \n",
            "                                                                 \n",
            " dense_9 (Dense)             (None, 1)                 31        \n",
            "                                                                 \n",
            "=================================================================\n",
            "Total params: 1,861\n",
            "Trainable params: 1,861\n",
            "Non-trainable params: 0\n",
            "_________________________________________________________________\n"
          ]
        }
      ]
    },
    {
      "cell_type": "markdown",
      "source": [
        "### | 학습"
      ],
      "metadata": {
        "id": "gLuvsUFmwzPa"
      }
    },
    {
      "cell_type": "markdown",
      "source": [
        "#### **모델 컴파일**\n",
        "\n",
        "```\n",
        "model.compile(loss, optimizer, metrics) \n",
        "```\n",
        "* `loss` : 이진분류에서는 'binary_crossentropy'\n",
        "* `optimizer` : 'adam' (문제와 관련 없다)\n",
        "* `metrics`:\n",
        "  * 추가적인 옵션\n",
        "  * 딥러닝 알고리즘에 필수 요소는 아니다.\n",
        "  * 사용자 편의 (정확도)\n"
      ],
      "metadata": {
        "id": "fwQboNHp3EHe"
      }
    },
    {
      "cell_type": "code",
      "source": [
        "model.compile(loss='binary_crossentropy',\n",
        "             optimizer = 'adam',\n",
        "             metrics = ['accuracy'])"
      ],
      "metadata": {
        "id": "SASPIskxgfRY"
      },
      "execution_count": 42,
      "outputs": []
    },
    {
      "cell_type": "markdown",
      "source": [
        "#### **학습**\n",
        "\n",
        "```\n",
        "model.fit(x_train, y_train, epochs, batch_size)\n",
        "```\n",
        "* `x_train` : 넘파이 혹은 텐서 형식의 인풋 데이터\n",
        "* `y_train` : 넘파이 혹은 텐서 형식의 아웃풋 데이터\n",
        "* `epochs` : 학습 횟수\n",
        "* `batch_size` : 배치 사이즈 (업데이트 한번에 사용될 샘플 개수)"
      ],
      "metadata": {
        "id": "JukUpWB4gfRY"
      }
    },
    {
      "cell_type": "code",
      "source": [
        "model.fit(x_train, y_train, epochs = 30, batch_size = 10)"
      ],
      "metadata": {
        "id": "9bgbpUhogfRY",
        "colab": {
          "base_uri": "https://localhost:8080/"
        },
        "outputId": "c9996edf-28bd-450e-c624-e9829bd4c433"
      },
      "execution_count": 44,
      "outputs": [
        {
          "output_type": "stream",
          "name": "stdout",
          "text": [
            "Epoch 1/30\n",
            "15/15 [==============================] - 0s 3ms/step - loss: 0.0377 - accuracy: 1.0000\n",
            "Epoch 2/30\n",
            "15/15 [==============================] - 0s 3ms/step - loss: 0.0361 - accuracy: 1.0000\n",
            "Epoch 3/30\n",
            "15/15 [==============================] - 0s 3ms/step - loss: 0.0347 - accuracy: 1.0000\n",
            "Epoch 4/30\n",
            "15/15 [==============================] - 0s 3ms/step - loss: 0.0333 - accuracy: 1.0000\n",
            "Epoch 5/30\n",
            "15/15 [==============================] - 0s 3ms/step - loss: 0.0323 - accuracy: 1.0000\n",
            "Epoch 6/30\n",
            "15/15 [==============================] - 0s 4ms/step - loss: 0.0310 - accuracy: 1.0000\n",
            "Epoch 7/30\n",
            "15/15 [==============================] - 0s 4ms/step - loss: 0.0300 - accuracy: 1.0000\n",
            "Epoch 8/30\n",
            "15/15 [==============================] - 0s 5ms/step - loss: 0.0287 - accuracy: 1.0000\n",
            "Epoch 9/30\n",
            "15/15 [==============================] - 0s 4ms/step - loss: 0.0279 - accuracy: 1.0000\n",
            "Epoch 10/30\n",
            "15/15 [==============================] - 0s 6ms/step - loss: 0.0270 - accuracy: 1.0000\n",
            "Epoch 11/30\n",
            "15/15 [==============================] - 0s 4ms/step - loss: 0.0259 - accuracy: 1.0000\n",
            "Epoch 12/30\n",
            "15/15 [==============================] - 0s 4ms/step - loss: 0.0250 - accuracy: 1.0000\n",
            "Epoch 13/30\n",
            "15/15 [==============================] - 0s 5ms/step - loss: 0.0243 - accuracy: 1.0000\n",
            "Epoch 14/30\n",
            "15/15 [==============================] - 0s 4ms/step - loss: 0.0234 - accuracy: 1.0000\n",
            "Epoch 15/30\n",
            "15/15 [==============================] - 0s 4ms/step - loss: 0.0226 - accuracy: 1.0000\n",
            "Epoch 16/30\n",
            "15/15 [==============================] - 0s 3ms/step - loss: 0.0218 - accuracy: 1.0000\n",
            "Epoch 17/30\n",
            "15/15 [==============================] - 0s 3ms/step - loss: 0.0211 - accuracy: 1.0000\n",
            "Epoch 18/30\n",
            "15/15 [==============================] - 0s 3ms/step - loss: 0.0204 - accuracy: 1.0000\n",
            "Epoch 19/30\n",
            "15/15 [==============================] - 0s 4ms/step - loss: 0.0198 - accuracy: 1.0000\n",
            "Epoch 20/30\n",
            "15/15 [==============================] - 0s 4ms/step - loss: 0.0192 - accuracy: 1.0000\n",
            "Epoch 21/30\n",
            "15/15 [==============================] - 0s 4ms/step - loss: 0.0186 - accuracy: 1.0000\n",
            "Epoch 22/30\n",
            "15/15 [==============================] - 0s 4ms/step - loss: 0.0180 - accuracy: 1.0000\n",
            "Epoch 23/30\n",
            "15/15 [==============================] - 0s 4ms/step - loss: 0.0175 - accuracy: 1.0000\n",
            "Epoch 24/30\n",
            "15/15 [==============================] - 0s 4ms/step - loss: 0.0169 - accuracy: 1.0000\n",
            "Epoch 25/30\n",
            "15/15 [==============================] - 0s 3ms/step - loss: 0.0164 - accuracy: 1.0000\n",
            "Epoch 26/30\n",
            "15/15 [==============================] - 0s 5ms/step - loss: 0.0161 - accuracy: 1.0000\n",
            "Epoch 27/30\n",
            "15/15 [==============================] - 0s 4ms/step - loss: 0.0155 - accuracy: 1.0000\n",
            "Epoch 28/30\n",
            "15/15 [==============================] - 0s 5ms/step - loss: 0.0151 - accuracy: 1.0000\n",
            "Epoch 29/30\n",
            "15/15 [==============================] - 0s 4ms/step - loss: 0.0147 - accuracy: 1.0000\n",
            "Epoch 30/30\n",
            "15/15 [==============================] - 0s 4ms/step - loss: 0.0142 - accuracy: 1.0000\n"
          ]
        },
        {
          "output_type": "execute_result",
          "data": {
            "text/plain": [
              "<keras.callbacks.History at 0x7f67966c2cd0>"
            ]
          },
          "metadata": {},
          "execution_count": 44
        }
      ]
    },
    {
      "cell_type": "markdown",
      "source": [
        "### | 검증 및 예측\n"
      ],
      "metadata": {
        "id": "DyFOnqyNw5_q"
      }
    },
    {
      "cell_type": "markdown",
      "source": [
        "#### **검증**\n",
        "\n",
        "```\n",
        "model.evaluate(x_test, y_test)\n",
        "```\n",
        "* `x_test` : 넘파이 혹은 텐서 형식의 인풋 테스트 데이터\n",
        "* `y_test` : 넘파이 혹은 텐서 형식의 아웃풋 테스트 데이터"
      ],
      "metadata": {
        "id": "qlalKZ-a04c3"
      }
    },
    {
      "cell_type": "code",
      "source": [
        "model.evaluate(x_test, y_test) # 과적합(overfitting) 일어났다. "
      ],
      "metadata": {
        "id": "uHGyMlf60zng",
        "colab": {
          "base_uri": "https://localhost:8080/"
        },
        "outputId": "1f69de6f-b482-42d6-cfeb-9ee0fd62c16c"
      },
      "execution_count": 45,
      "outputs": [
        {
          "output_type": "stream",
          "name": "stdout",
          "text": [
            "2/2 [==============================] - 0s 6ms/step - loss: 0.5062 - accuracy: 0.7778\n"
          ]
        },
        {
          "output_type": "execute_result",
          "data": {
            "text/plain": [
              "[0.5062184929847717, 0.7777777910232544]"
            ]
          },
          "metadata": {},
          "execution_count": 45
        }
      ]
    },
    {
      "cell_type": "markdown",
      "source": [
        "#### **예측**\n",
        "\n",
        "```\n",
        "model.predict(x_test)\n",
        "```\n",
        "* `x_test` : 넘파이 혹은 텐서 형식의 인풋 테스트 데이터\n",
        "* `y_test` : 넘파이 혹은 텐서 형식의 아웃풋 테스트 데이터"
      ],
      "metadata": {
        "id": "BITPUIOj07Uv"
      }
    },
    {
      "cell_type": "code",
      "source": [
        "y_pred = model.predict(x_test)\n",
        "y_pred = y_pred.flatten()\n",
        "y_pred = np.round(y_pred) # 반올림\n",
        "for i in range(50):\n",
        "  print('y true :',y_test[i],'y pred : ', y_pred[i])\n",
        "y_test.shape, y_pred.shape"
      ],
      "metadata": {
        "id": "KfDHL4PRv8YD",
        "colab": {
          "base_uri": "https://localhost:8080/"
        },
        "outputId": "6388b0c3-62da-4f39-a549-160aacdf2017"
      },
      "execution_count": 53,
      "outputs": [
        {
          "output_type": "stream",
          "name": "stdout",
          "text": [
            "y true : 0 y pred :  0.0\n",
            "y true : 1 y pred :  1.0\n",
            "y true : 0 y pred :  0.0\n",
            "y true : 1 y pred :  1.0\n",
            "y true : 0 y pred :  0.0\n",
            "y true : 1 y pred :  1.0\n",
            "y true : 1 y pred :  1.0\n",
            "y true : 1 y pred :  1.0\n",
            "y true : 1 y pred :  1.0\n",
            "y true : 1 y pred :  0.0\n",
            "y true : 0 y pred :  0.0\n",
            "y true : 1 y pred :  1.0\n",
            "y true : 1 y pred :  1.0\n",
            "y true : 0 y pred :  0.0\n",
            "y true : 0 y pred :  0.0\n",
            "y true : 0 y pred :  0.0\n",
            "y true : 0 y pred :  1.0\n",
            "y true : 1 y pred :  1.0\n",
            "y true : 1 y pred :  1.0\n",
            "y true : 1 y pred :  1.0\n",
            "y true : 0 y pred :  1.0\n",
            "y true : 1 y pred :  1.0\n",
            "y true : 0 y pred :  0.0\n",
            "y true : 1 y pred :  1.0\n",
            "y true : 0 y pred :  0.0\n",
            "y true : 1 y pred :  0.0\n",
            "y true : 1 y pred :  0.0\n",
            "y true : 0 y pred :  0.0\n",
            "y true : 1 y pred :  1.0\n",
            "y true : 0 y pred :  0.0\n",
            "y true : 0 y pred :  0.0\n",
            "y true : 1 y pred :  0.0\n",
            "y true : 0 y pred :  0.0\n",
            "y true : 1 y pred :  1.0\n",
            "y true : 1 y pred :  1.0\n",
            "y true : 0 y pred :  0.0\n",
            "y true : 0 y pred :  0.0\n",
            "y true : 1 y pred :  1.0\n",
            "y true : 1 y pred :  1.0\n",
            "y true : 0 y pred :  0.0\n",
            "y true : 0 y pred :  0.0\n",
            "y true : 0 y pred :  1.0\n",
            "y true : 0 y pred :  0.0\n",
            "y true : 0 y pred :  1.0\n",
            "y true : 0 y pred :  1.0\n",
            "y true : 1 y pred :  0.0\n",
            "y true : 1 y pred :  1.0\n",
            "y true : 0 y pred :  0.0\n",
            "y true : 1 y pred :  1.0\n",
            "y true : 0 y pred :  1.0\n"
          ]
        },
        {
          "output_type": "execute_result",
          "data": {
            "text/plain": [
              "((63,), (63,))"
            ]
          },
          "metadata": {},
          "execution_count": 53
        }
      ]
    },
    {
      "cell_type": "markdown",
      "source": [
        "* 예측 시각화"
      ],
      "metadata": {
        "id": "gThN4RCR0_HI"
      }
    },
    {
      "cell_type": "code",
      "source": [
        "from sklearn.metrics import confusion_matrix, ConfusionMatrixDisplay\n",
        "# 혼돈 행렬\n",
        "cm = confusion_matrix(y_test, y_pred)\n",
        "print(cm)\n",
        "ConfusionMatrixDisplay(cm).plot(cmap = 'PuBu_r')"
      ],
      "metadata": {
        "id": "TG533VyLwDaK",
        "colab": {
          "base_uri": "https://localhost:8080/",
          "height": 334
        },
        "outputId": "ba10f718-dd57-4467-e217-2f605da6ab13"
      },
      "execution_count": 60,
      "outputs": [
        {
          "output_type": "stream",
          "name": "stdout",
          "text": [
            "[[26  7]\n",
            " [ 7 23]]\n"
          ]
        },
        {
          "output_type": "execute_result",
          "data": {
            "text/plain": [
              "<sklearn.metrics._plot.confusion_matrix.ConfusionMatrixDisplay at 0x7f67960e3fd0>"
            ]
          },
          "metadata": {},
          "execution_count": 60
        },
        {
          "output_type": "display_data",
          "data": {
            "text/plain": [
              "<Figure size 432x288 with 2 Axes>"
            ],
            "image/png": "[encoded data removed]"
          },
          "metadata": {
            "needs_background": "light"
          }
        }
      ]
    },
    {
      "cell_type": "markdown",
      "source": [
        "## 과제\n",
        "---"
      ],
      "metadata": {
        "id": "ZFrRTgcyipYg"
      }
    },
    {
      "cell_type": "markdown",
      "source": [
        "### | 과제1. 이진분류 문제 정리\n",
        "\n",
        "* 예측값의 범위 : 0 또는 1\n",
        "* 예측값의 shape : (샘플 수, 1 ) 혹은 (샘플수, )\n",
        "* 아웃풋 레이어의 노드 개수 : 1\n",
        "* 아웃풋 레이어의 activation : sigmoid\n",
        "* 손실함수 (loss) : binary_crossentropy\n",
        "* 평가함수 (metrics) : accuracy(정확도)"
      ],
      "metadata": {
        "id": "xjnJSLgXK_Pp"
      }
    },
    {
      "cell_type": "markdown",
      "source": [
        "### | 과제2. 한 셀에 코드 정리하기\n",
        "\n",
        "* 추가 연습\n",
        "  * 모델의 깊이(depth)를 늘려가며 학습해 보세요.\n",
        "  * 모델의 너비(width)를 늘려가며 학습해 보세요."
      ],
      "metadata": {
        "id": "ZvFAB78P1B_Q"
      }
    },
    {
      "cell_type": "code",
      "source": [
        "def build_model():\n",
        "  x = layers.Input(shape = (60))\n",
        "  y = layers.Dense(40, activation = 'relu')(x) \n",
        "  y = layers.Dense(20, activation = 'sigmoid')(y)\n",
        "  y = layers.Dense(10, activation = 'sigmoid')(y)\n",
        "  y = layers.Dense(1, activation = 'sigmoid')(y)\n",
        "  model = models.Model(x, y) # 이진분류 문제 경우, 마지막 레이어에서 sigmoid 사용\n",
        " \n",
        "  return model\n",
        "\n",
        "model = build_model()\n",
        "model.summary()\n",
        "\n",
        "model.compile(loss='binary_crossentropy',\n",
        "             optimizer = 'adam',\n",
        "             metrics = ['accuracy'])\n",
        "\n",
        "model.fit(x_train, y_train, epochs = 30, batch_size = 10)\n",
        "\n",
        "cm = confusion_matrix(y_test, y_pred)\n",
        "print(cm)\n",
        "ConfusionMatrixDisplay(cm).plot(cmap = 'PuBu_r')"
      ],
      "metadata": {
        "id": "v5WYSd9a1Cz4",
        "colab": {
          "base_uri": "https://localhost:8080/",
          "height": 1000
        },
        "outputId": "54b09228-e36d-43e3-ed55-d8796176e109"
      },
      "execution_count": 65,
      "outputs": [
        {
          "output_type": "stream",
          "name": "stdout",
          "text": [
            "Model: \"model_8\"\n",
            "_________________________________________________________________\n",
            " Layer (type)                Output Shape              Param #   \n",
            "=================================================================\n",
            " input_9 (InputLayer)        [(None, 60)]              0         \n",
            "                                                                 \n",
            " dense_22 (Dense)            (None, 40)                2440      \n",
            "                                                                 \n",
            " dense_23 (Dense)            (None, 20)                820       \n",
            "                                                                 \n",
            " dense_24 (Dense)            (None, 10)                210       \n",
            "                                                                 \n",
            " dense_25 (Dense)            (None, 1)                 11        \n",
            "                                                                 \n",
            "=================================================================\n",
            "Total params: 3,481\n",
            "Trainable params: 3,481\n",
            "Non-trainable params: 0\n",
            "_________________________________________________________________\n",
            "Epoch 1/30\n",
            "15/15 [==============================] - 1s 5ms/step - loss: 1.0203 - accuracy: 0.5379\n",
            "Epoch 2/30\n",
            "15/15 [==============================] - 0s 5ms/step - loss: 0.9183 - accuracy: 0.5379\n",
            "Epoch 3/30\n",
            "15/15 [==============================] - 0s 5ms/step - loss: 0.8318 - accuracy: 0.5379\n",
            "Epoch 4/30\n",
            "15/15 [==============================] - 0s 6ms/step - loss: 0.7693 - accuracy: 0.5379\n",
            "Epoch 5/30\n",
            "15/15 [==============================] - 0s 5ms/step - loss: 0.7207 - accuracy: 0.5379\n",
            "Epoch 6/30\n",
            "15/15 [==============================] - 0s 4ms/step - loss: 0.6853 - accuracy: 0.5379\n",
            "Epoch 7/30\n",
            "15/15 [==============================] - 0s 4ms/step - loss: 0.6558 - accuracy: 0.5379\n",
            "Epoch 8/30\n",
            "15/15 [==============================] - 0s 4ms/step - loss: 0.6332 - accuracy: 0.5379\n",
            "Epoch 9/30\n",
            "15/15 [==============================] - 0s 4ms/step - loss: 0.6117 - accuracy: 0.5379\n",
            "Epoch 10/30\n",
            "15/15 [==============================] - 0s 4ms/step - loss: 0.5906 - accuracy: 0.5379\n",
            "Epoch 11/30\n",
            "15/15 [==============================] - 0s 4ms/step - loss: 0.5706 - accuracy: 0.5379\n",
            "Epoch 12/30\n",
            "15/15 [==============================] - 0s 4ms/step - loss: 0.5483 - accuracy: 0.6069\n",
            "Epoch 13/30\n",
            "15/15 [==============================] - 0s 4ms/step - loss: 0.5271 - accuracy: 0.7172\n",
            "Epoch 14/30\n",
            "15/15 [==============================] - 0s 4ms/step - loss: 0.5051 - accuracy: 0.7862\n",
            "Epoch 15/30\n",
            "15/15 [==============================] - 0s 4ms/step - loss: 0.4835 - accuracy: 0.8276\n",
            "Epoch 16/30\n",
            "15/15 [==============================] - 0s 4ms/step - loss: 0.4623 - accuracy: 0.8828\n",
            "Epoch 17/30\n",
            "15/15 [==============================] - 0s 4ms/step - loss: 0.4400 - accuracy: 0.8966\n",
            "Epoch 18/30\n",
            "15/15 [==============================] - 0s 4ms/step - loss: 0.4193 - accuracy: 0.8966\n",
            "Epoch 19/30\n",
            "15/15 [==============================] - 0s 4ms/step - loss: 0.3979 - accuracy: 0.8966\n",
            "Epoch 20/30\n",
            "15/15 [==============================] - 0s 4ms/step - loss: 0.3783 - accuracy: 0.9103\n",
            "Epoch 21/30\n",
            "15/15 [==============================] - 0s 4ms/step - loss: 0.3594 - accuracy: 0.9310\n",
            "Epoch 22/30\n",
            "15/15 [==============================] - 0s 3ms/step - loss: 0.3416 - accuracy: 0.9310\n",
            "Epoch 23/30\n",
            "15/15 [==============================] - 0s 3ms/step - loss: 0.3246 - accuracy: 0.9379\n",
            "Epoch 24/30\n",
            "15/15 [==============================] - 0s 3ms/step - loss: 0.3089 - accuracy: 0.9517\n",
            "Epoch 25/30\n",
            "15/15 [==============================] - 0s 3ms/step - loss: 0.2923 - accuracy: 0.9517\n",
            "Epoch 26/30\n",
            "15/15 [==============================] - 0s 3ms/step - loss: 0.2777 - accuracy: 0.9448\n",
            "Epoch 27/30\n",
            "15/15 [==============================] - 0s 3ms/step - loss: 0.2629 - accuracy: 0.9655\n",
            "Epoch 28/30\n",
            "15/15 [==============================] - 0s 3ms/step - loss: 0.2487 - accuracy: 0.9724\n",
            "Epoch 29/30\n",
            "15/15 [==============================] - 0s 3ms/step - loss: 0.2360 - accuracy: 0.9724\n",
            "Epoch 30/30\n",
            "15/15 [==============================] - 0s 3ms/step - loss: 0.2222 - accuracy: 0.9724\n",
            "[[26  7]\n",
            " [ 7 23]]\n"
          ]
        },
        {
          "output_type": "execute_result",
          "data": {
            "text/plain": [
              "<sklearn.metrics._plot.confusion_matrix.ConfusionMatrixDisplay at 0x7f677e18ddd0>"
            ]
          },
          "metadata": {},
          "execution_count": 65
        },
        {
          "output_type": "display_data",
          "data": {
            "text/plain": [
              "<Figure size 432x288 with 2 Axes>"
            ],
            "image/png": "[encoded data removed]"
          },
          "metadata": {
            "needs_background": "light"
          }
        }
      ]
    },
    {
      "cell_type": "markdown",
      "source": [
        "### | 과제 3. 피마 인디언 당뇨병 예측\n",
        "\n",
        "\n",
        "* `pima-indians-diabetes.csv`\n",
        "```\n",
        "df = pd.read_csv(data_path,\n",
        "                names = [\"pregnant\", \"plasma\", \"pressure\", \"thickness\", \"insulin\", \"BMI\", \"pedigree\", \"age\", \"class\"])\n",
        "```"
      ],
      "metadata": {
        "id": "2K0mAdPzjOAf"
      }
    },
    {
      "cell_type": "code",
      "source": [
        "data_path = '/content/SkillTreePython-DeepLearning/dataset/pima-indians-diabetes.csv'\n",
        "df = pd.read_csv(data_path,\n",
        "              names = [\"pregnant\", \"plasma\", \"pressure\", \"thickness\", \"insulin\", \"BMI\", \"pedigree\", \"age\", \"class\"])\n",
        "print (df.shape)\n",
        "df"
      ],
      "metadata": {
        "id": "KoXy2IWkQQKT",
        "outputId": "0e39b1f5-9ca6-495f-9a9b-fe6bea17bf6e",
        "colab": {
          "base_uri": "https://localhost:8080/",
          "height": 442
        }
      },
      "execution_count": 68,
      "outputs": [
        {
          "output_type": "stream",
          "name": "stdout",
          "text": [
            "(768, 9)\n"
          ]
        },
        {
          "output_type": "execute_result",
          "data": {
            "text/plain": [
              "     pregnant  plasma  pressure  thickness  insulin   BMI  pedigree  age  \\\n",
              "0           6     148        72         35        0  33.6     0.627   50   \n",
              "1           1      85        66         29        0  26.6     0.351   31   \n",
              "2           8     183        64          0        0  23.3     0.672   32   \n",
              "3           1      89        66         23       94  28.1     0.167   21   \n",
              "4           0     137        40         35      168  43.1     2.288   33   \n",
              "..        ...     ...       ...        ...      ...   ...       ...  ...   \n",
              "763        10     101        76         48      180  32.9     0.171   63   \n",
              "764         2     122        70         27        0  36.8     0.340   27   \n",
              "765         5     121        72         23      112  26.2     0.245   30   \n",
              "766         1     126        60          0        0  30.1     0.349   47   \n",
              "767         1      93        70         31        0  30.4     0.315   23   \n",
              "\n",
              "     class  \n",
              "0        1  \n",
              "1        0  \n",
              "2        1  \n",
              "3        0  \n",
              "4        1  \n",
              "..     ...  \n",
              "763      0  \n",
              "764      0  \n",
              "765      0  \n",
              "766      1  \n",
              "767      0  \n",
              "\n",
              "[768 rows x 9 columns]"
            ],
            "text/html": [
              "\n",
              "  <div id=\"df-9e513bd2-4a61-4170-bf6c-e3f86eaa56c0\">\n",
              "    <div class=\"colab-df-container\">\n",
              "      <div>\n",
              "<style scoped>\n",
              "    .dataframe tbody tr th:only-of-type {\n",
              "        vertical-align: middle;\n",
              "    }\n",
              "\n",
              "    .dataframe tbody tr th {\n",
              "        vertical-align: top;\n",
              "    }\n",
              "\n",
              "    .dataframe thead th {\n",
              "        text-align: right;\n",
              "    }\n",
              "</style>\n",
              "<table border=\"1\" class=\"dataframe\">\n",
              "  <thead>\n",
              "    <tr style=\"text-align: right;\">\n",
              "      <th></th>\n",
              "      <th>pregnant</th>\n",
              "      <th>plasma</th>\n",
              "      <th>pressure</th>\n",
              "      <th>thickness</th>\n",
              "      <th>insulin</th>\n",
              "      <th>BMI</th>\n",
              "      <th>pedigree</th>\n",
              "      <th>age</th>\n",
              "      <th>class</th>\n",
              "    </tr>\n",
              "  </thead>\n",
              "  <tbody>\n",
              "    <tr>\n",
              "      <th>0</th>\n",
              "      <td>6</td>\n",
              "      <td>148</td>\n",
              "      <td>72</td>\n",
              "      <td>35</td>\n",
              "      <td>0</td>\n",
              "      <td>33.6</td>\n",
              "      <td>0.627</td>\n",
              "      <td>50</td>\n",
              "      <td>1</td>\n",
              "    </tr>\n",
              "    <tr>\n",
              "      <th>1</th>\n",
              "      <td>1</td>\n",
              "      <td>85</td>\n",
              "      <td>66</td>\n",
              "      <td>29</td>\n",
              "      <td>0</td>\n",
              "      <td>26.6</td>\n",
              "      <td>0.351</td>\n",
              "      <td>31</td>\n",
              "      <td>0</td>\n",
              "    </tr>\n",
              "    <tr>\n",
              "      <th>2</th>\n",
              "      <td>8</td>\n",
              "      <td>183</td>\n",
              "      <td>64</td>\n",
              "      <td>0</td>\n",
              "      <td>0</td>\n",
              "      <td>23.3</td>\n",
              "      <td>0.672</td>\n",
              "      <td>32</td>\n",
              "      <td>1</td>\n",
              "    </tr>\n",
              "    <tr>\n",
              "      <th>3</th>\n",
              "      <td>1</td>\n",
              "      <td>89</td>\n",
              "      <td>66</td>\n",
              "      <td>23</td>\n",
              "      <td>94</td>\n",
              "      <td>28.1</td>\n",
              "      <td>0.167</td>\n",
              "      <td>21</td>\n",
              "      <td>0</td>\n",
              "    </tr>\n",
              "    <tr>\n",
              "      <th>4</th>\n",
              "      <td>0</td>\n",
              "      <td>137</td>\n",
              "      <td>40</td>\n",
              "      <td>35</td>\n",
              "      <td>168</td>\n",
              "      <td>43.1</td>\n",
              "      <td>2.288</td>\n",
              "      <td>33</td>\n",
              "      <td>1</td>\n",
              "    </tr>\n",
              "    <tr>\n",
              "      <th>...</th>\n",
              "      <td>...</td>\n",
              "      <td>...</td>\n",
              "      <td>...</td>\n",
              "      <td>...</td>\n",
              "      <td>...</td>\n",
              "      <td>...</td>\n",
              "      <td>...</td>\n",
              "      <td>...</td>\n",
              "      <td>...</td>\n",
              "    </tr>\n",
              "    <tr>\n",
              "      <th>763</th>\n",
              "      <td>10</td>\n",
              "      <td>101</td>\n",
              "      <td>76</td>\n",
              "      <td>48</td>\n",
              "      <td>180</td>\n",
              "      <td>32.9</td>\n",
              "      <td>0.171</td>\n",
              "      <td>63</td>\n",
              "      <td>0</td>\n",
              "    </tr>\n",
              "    <tr>\n",
              "      <th>764</th>\n",
              "      <td>2</td>\n",
              "      <td>122</td>\n",
              "      <td>70</td>\n",
              "      <td>27</td>\n",
              "      <td>0</td>\n",
              "      <td>36.8</td>\n",
              "      <td>0.340</td>\n",
              "      <td>27</td>\n",
              "      <td>0</td>\n",
              "    </tr>\n",
              "    <tr>\n",
              "      <th>765</th>\n",
              "      <td>5</td>\n",
              "      <td>121</td>\n",
              "      <td>72</td>\n",
              "      <td>23</td>\n",
              "      <td>112</td>\n",
              "      <td>26.2</td>\n",
              "      <td>0.245</td>\n",
              "      <td>30</td>\n",
              "      <td>0</td>\n",
              "    </tr>\n",
              "    <tr>\n",
              "      <th>766</th>\n",
              "      <td>1</td>\n",
              "      <td>126</td>\n",
              "      <td>60</td>\n",
              "      <td>0</td>\n",
              "      <td>0</td>\n",
              "      <td>30.1</td>\n",
              "      <td>0.349</td>\n",
              "      <td>47</td>\n",
              "      <td>1</td>\n",
              "    </tr>\n",
              "    <tr>\n",
              "      <th>767</th>\n",
              "      <td>1</td>\n",
              "      <td>93</td>\n",
              "      <td>70</td>\n",
              "      <td>31</td>\n",
              "      <td>0</td>\n",
              "      <td>30.4</td>\n",
              "      <td>0.315</td>\n",
              "      <td>23</td>\n",
              "      <td>0</td>\n",
              "    </tr>\n",
              "  </tbody>\n",
              "</table>\n",
              "<p>768 rows × 9 columns</p>\n",
              "</div>\n",
              "      <button class=\"colab-df-convert\" onclick=\"convertToInteractive('df-9e513bd2-4a61-4170-bf6c-e3f86eaa56c0')\"\n",
              "              title=\"Convert this dataframe to an interactive table.\"\n",
              "              style=\"display:none;\">\n",
              "        \n",
              "  <svg xmlns=\"http://www.w3.org/2000/svg\" height=\"24px\"viewBox=\"0 0 24 24\"\n",
              "       width=\"24px\">\n",
              "    <path d=\"M0 0h24v24H0V0z\" fill=\"none\"/>\n",
              "    <path d=\"M18.56 5.44l.94 2.06.94-2.06 2.06-.94-2.06-.94-.94-2.06-.94 2.06-2.06.94zm-11 1L8.5 8.5l.94-2.06 2.06-.94-2.06-.94L8.5 2.5l-.94 2.06-2.06.94zm10 10l.94 2.06.94-2.06 2.06-.94-2.06-.94-.94-2.06-.94 2.06-2.06.94z\"/><path d=\"M17.41 7.96l-1.37-1.37c-.4-.4-.92-.59-1.43-.59-.52 0-1.04.2-1.43.59L10.3 9.45l-7.72 7.72c-.78.78-.78 2.05 0 2.83L4 21.41c.39.39.9.59 1.41.59.51 0 1.02-.2 1.41-.59l7.78-7.78 2.81-2.81c.8-.78.8-2.07 0-2.86zM5.41 20L4 18.59l7.72-7.72 1.47 1.35L5.41 20z\"/>\n",
              "  </svg>\n",
              "      </button>\n",
              "      \n",
              "  <style>\n",
              "    .colab-df-container {\n",
              "      display:flex;\n",
              "      flex-wrap:wrap;\n",
              "      gap: 12px;\n",
              "    }\n",
              "\n",
              "    .colab-df-convert {\n",
              "      background-color: #E8F0FE;\n",
              "      border: none;\n",
              "      border-radius: 50%;\n",
              "      cursor: pointer;\n",
              "      display: none;\n",
              "      fill: #1967D2;\n",
              "      height: 32px;\n",
              "      padding: 0 0 0 0;\n",
              "      width: 32px;\n",
              "    }\n",
              "\n",
              "    .colab-df-convert:hover {\n",
              "      background-color: #E2EBFA;\n",
              "      box-shadow: 0px 1px 2px rgba(60, 64, 67, 0.3), 0px 1px 3px 1px rgba(60, 64, 67, 0.15);\n",
              "      fill: #174EA6;\n",
              "    }\n",
              "\n",
              "    [theme=dark] .colab-df-convert {\n",
              "      background-color: #3B4455;\n",
              "      fill: #D2E3FC;\n",
              "    }\n",
              "\n",
              "    [theme=dark] .colab-df-convert:hover {\n",
              "      background-color: #434B5C;\n",
              "      box-shadow: 0px 1px 3px 1px rgba(0, 0, 0, 0.15);\n",
              "      filter: drop-shadow(0px 1px 2px rgba(0, 0, 0, 0.3));\n",
              "      fill: #FFFFFF;\n",
              "    }\n",
              "  </style>\n",
              "\n",
              "      <script>\n",
              "        const buttonEl =\n",
              "          document.querySelector('#df-9e513bd2-4a61-4170-bf6c-e3f86eaa56c0 button.colab-df-convert');\n",
              "        buttonEl.style.display =\n",
              "          google.colab.kernel.accessAllowed ? 'block' : 'none';\n",
              "\n",
              "        async function convertToInteractive(key) {\n",
              "          const element = document.querySelector('#df-9e513bd2-4a61-4170-bf6c-e3f86eaa56c0');\n",
              "          const dataTable =\n",
              "            await google.colab.kernel.invokeFunction('convertToInteractive',\n",
              "                                                     [key], {});\n",
              "          if (!dataTable) return;\n",
              "\n",
              "          const docLinkHtml = 'Like what you see? Visit the ' +\n",
              "            '<a target=\"_blank\" href=https://colab.research.google.com/notebooks/data_table.ipynb>data table notebook</a>'\n",
              "            + ' to learn more about interactive tables.';\n",
              "          element.innerHTML = '';\n",
              "          dataTable['output_type'] = 'display_data';\n",
              "          await google.colab.output.renderOutput(dataTable, element);\n",
              "          const docLink = document.createElement('div');\n",
              "          docLink.innerHTML = docLinkHtml;\n",
              "          element.appendChild(docLink);\n",
              "        }\n",
              "      </script>\n",
              "    </div>\n",
              "  </div>\n",
              "  "
            ]
          },
          "metadata": {},
          "execution_count": 68
        }
      ]
    },
    {
      "cell_type": "code",
      "source": [
        "def path2dataset_pima(path):\n",
        "  df = pd.read_csv(data_path,\n",
        "              names = [\"pregnant\", \"plasma\", \"pressure\", \"thickness\", \"insulin\", \"BMI\", \"pedigree\", \"age\", \"class\"])\n",
        "  df = df.values\n",
        "  x=df[:,0:-1]\n",
        "  y = df[:, -1]\n",
        "\n",
        "  scaler = StandardScaler()\n",
        "  x = df = scaler.fit_transform(x)\n",
        "\n",
        "  labeling =LabelEncoder()\n",
        "  y = labeling.fit_transform(y)\n",
        "  print (labeling.classes_)\n",
        "  x_train, x_test, y_train, y_test = train_test_split(x, y, test_size =  0.3)\n",
        "  return x_train, x_test, y_train, y_test\n",
        "\n",
        "x_train, x_test, y_train, y_test = path2dataset_pima(path)\n",
        "print(x_train.shape, x_test.shape, y_train.shape, y_test.shape)\n",
        "print(f'첫번째 샘플 x : {x_train[0]}')\n",
        "print(f'첫번째 샘플 y : {y_train[0]}')"
      ],
      "metadata": {
        "id": "Ppi8p2S_HsVb",
        "colab": {
          "base_uri": "https://localhost:8080/"
        },
        "outputId": "1341f812-32d3-4bde-8e86-0155e02729fd"
      },
      "execution_count": 86,
      "outputs": [
        {
          "output_type": "stream",
          "name": "stdout",
          "text": [
            "[0. 1.]\n",
            "(537, 8) (231, 8) (537,) (231,)\n",
            "첫번째 샘플 x : [ 0.93691372 -0.59134489  0.25303625  1.22091023  0.2188135   0.66092205\n",
            " -0.80901822  1.00055664]\n",
            "첫번째 샘플 y : 0\n"
          ]
        }
      ]
    },
    {
      "cell_type": "code",
      "source": [
        "def build_model():\n",
        "  x = layers.Input(shape = (8))\n",
        "  y = layers.Dense(10, activation = 'relu')(x) #아웃풋 shape\n",
        "  y = layers.Dense(1, activation = 'sigmoid')(y)\n",
        "  model = models.Model(x, y) # 이진분류 문제 경우, 마지막 레이어에서 sigmoid 사용\n",
        " \n",
        "  return model\n",
        "\n",
        "model = build_model()\n",
        "model.compile(loss='binary_crossentropy',\n",
        "             optimizer = 'adam',\n",
        "             metrics = ['accuracy'])\n",
        "\n",
        "model.summary()"
      ],
      "metadata": {
        "id": "1WflVBwERnYp",
        "outputId": "8e21fb82-b19e-457b-a280-44d83178628e",
        "colab": {
          "base_uri": "https://localhost:8080/"
        }
      },
      "execution_count": 91,
      "outputs": [
        {
          "output_type": "stream",
          "name": "stdout",
          "text": [
            "Model: \"model_10\"\n",
            "_________________________________________________________________\n",
            " Layer (type)                Output Shape              Param #   \n",
            "=================================================================\n",
            " input_11 (InputLayer)       [(None, 8)]               0         \n",
            "                                                                 \n",
            " dense_28 (Dense)            (None, 10)                90        \n",
            "                                                                 \n",
            " dense_29 (Dense)            (None, 1)                 11        \n",
            "                                                                 \n",
            "=================================================================\n",
            "Total params: 101\n",
            "Trainable params: 101\n",
            "Non-trainable params: 0\n",
            "_________________________________________________________________\n"
          ]
        }
      ]
    },
    {
      "cell_type": "code",
      "source": [
        "model.fit(x_train, y_train, epochs = 30, batch_size = 10)"
      ],
      "metadata": {
        "id": "rpKLrdGOSe-C",
        "outputId": "0b2f60b8-7436-41f2-d401-3032cbced283",
        "colab": {
          "base_uri": "https://localhost:8080/"
        }
      },
      "execution_count": 90,
      "outputs": [
        {
          "output_type": "stream",
          "name": "stdout",
          "text": [
            "Epoch 1/30\n",
            "54/54 [==============================] - 0s 3ms/step - loss: 0.7372 - accuracy: 0.4562\n",
            "Epoch 2/30\n",
            "54/54 [==============================] - 0s 2ms/step - loss: 0.6280 - accuracy: 0.6518\n",
            "Epoch 3/30\n",
            "54/54 [==============================] - 0s 2ms/step - loss: 0.5669 - accuracy: 0.6965\n",
            "Epoch 4/30\n",
            "54/54 [==============================] - 0s 2ms/step - loss: 0.5328 - accuracy: 0.7058\n",
            "Epoch 5/30\n",
            "54/54 [==============================] - 0s 3ms/step - loss: 0.5118 - accuracy: 0.7114\n",
            "Epoch 6/30\n",
            "54/54 [==============================] - 0s 3ms/step - loss: 0.4975 - accuracy: 0.7244\n",
            "Epoch 7/30\n",
            "54/54 [==============================] - 0s 3ms/step - loss: 0.4867 - accuracy: 0.7318\n",
            "Epoch 8/30\n",
            "54/54 [==============================] - 0s 2ms/step - loss: 0.4782 - accuracy: 0.7467\n",
            "Epoch 9/30\n",
            "54/54 [==============================] - 0s 2ms/step - loss: 0.4713 - accuracy: 0.7486\n",
            "Epoch 10/30\n",
            "54/54 [==============================] - 0s 2ms/step - loss: 0.4661 - accuracy: 0.7616\n",
            "Epoch 11/30\n",
            "54/54 [==============================] - 0s 2ms/step - loss: 0.4606 - accuracy: 0.7616\n",
            "Epoch 12/30\n",
            "54/54 [==============================] - 0s 2ms/step - loss: 0.4568 - accuracy: 0.7579\n",
            "Epoch 13/30\n",
            "54/54 [==============================] - 0s 3ms/step - loss: 0.4529 - accuracy: 0.7561\n",
            "Epoch 14/30\n",
            "54/54 [==============================] - 0s 3ms/step - loss: 0.4498 - accuracy: 0.7579\n",
            "Epoch 15/30\n",
            "54/54 [==============================] - 0s 2ms/step - loss: 0.4474 - accuracy: 0.7616\n",
            "Epoch 16/30\n",
            "54/54 [==============================] - 0s 3ms/step - loss: 0.4447 - accuracy: 0.7616\n",
            "Epoch 17/30\n",
            "54/54 [==============================] - 0s 3ms/step - loss: 0.4431 - accuracy: 0.7672\n",
            "Epoch 18/30\n",
            "54/54 [==============================] - 0s 3ms/step - loss: 0.4411 - accuracy: 0.7728\n",
            "Epoch 19/30\n",
            "54/54 [==============================] - 0s 3ms/step - loss: 0.4399 - accuracy: 0.7803\n",
            "Epoch 20/30\n",
            "54/54 [==============================] - 0s 3ms/step - loss: 0.4383 - accuracy: 0.7840\n",
            "Epoch 21/30\n",
            "54/54 [==============================] - 0s 3ms/step - loss: 0.4368 - accuracy: 0.7803\n",
            "Epoch 22/30\n",
            "54/54 [==============================] - 0s 3ms/step - loss: 0.4357 - accuracy: 0.7821\n",
            "Epoch 23/30\n",
            "54/54 [==============================] - 0s 3ms/step - loss: 0.4349 - accuracy: 0.7821\n",
            "Epoch 24/30\n",
            "54/54 [==============================] - 0s 3ms/step - loss: 0.4339 - accuracy: 0.7821\n",
            "Epoch 25/30\n",
            "54/54 [==============================] - 0s 3ms/step - loss: 0.4330 - accuracy: 0.7821\n",
            "Epoch 26/30\n",
            "54/54 [==============================] - 0s 3ms/step - loss: 0.4323 - accuracy: 0.7840\n",
            "Epoch 27/30\n",
            "54/54 [==============================] - 0s 3ms/step - loss: 0.4320 - accuracy: 0.7803\n",
            "Epoch 28/30\n",
            "54/54 [==============================] - 0s 3ms/step - loss: 0.4313 - accuracy: 0.7840\n",
            "Epoch 29/30\n",
            "54/54 [==============================] - 0s 2ms/step - loss: 0.4304 - accuracy: 0.7877\n",
            "Epoch 30/30\n",
            "54/54 [==============================] - 0s 3ms/step - loss: 0.4297 - accuracy: 0.7858\n"
          ]
        },
        {
          "output_type": "execute_result",
          "data": {
            "text/plain": [
              "<keras.callbacks.History at 0x7f677e0a91d0>"
            ]
          },
          "metadata": {},
          "execution_count": 90
        }
      ]
    },
    {
      "cell_type": "code",
      "source": [
        "model.evaluate(x_test, y_test)\n",
        "\n",
        "y_pred = model.predict(x_test)\n",
        "y_pred = y_pred.flatten()\n",
        "y_pred = np.round(y_pred) # 반올림\n",
        "for i in range(30):\n",
        "  print('y true :',y_test[i],'y pred : ', y_pred[i])\n",
        "y_test.shape, y_pred.shape\n",
        "\n",
        "cm = confusion_matrix(y_test, y_pred)\n",
        "print(cm)\n",
        "ConfusionMatrixDisplay(cm).plot(cmap = 'PuBu_r')"
      ],
      "metadata": {
        "id": "tvDfYIKSTNbr",
        "outputId": "3528d66e-ee3f-49a2-bd9b-71d9ab9b6329",
        "colab": {
          "base_uri": "https://localhost:8080/",
          "height": 900
        }
      },
      "execution_count": 94,
      "outputs": [
        {
          "output_type": "stream",
          "name": "stdout",
          "text": [
            "8/8 [==============================] - 0s 4ms/step - loss: 0.8099 - accuracy: 0.4026\n",
            "y true : 1 y pred :  0.0\n",
            "y true : 1 y pred :  1.0\n",
            "y true : 0 y pred :  0.0\n",
            "y true : 1 y pred :  1.0\n",
            "y true : 0 y pred :  0.0\n",
            "y true : 0 y pred :  1.0\n",
            "y true : 1 y pred :  0.0\n",
            "y true : 0 y pred :  1.0\n",
            "y true : 0 y pred :  1.0\n",
            "y true : 0 y pred :  0.0\n",
            "y true : 1 y pred :  0.0\n",
            "y true : 1 y pred :  0.0\n",
            "y true : 0 y pred :  1.0\n",
            "y true : 0 y pred :  0.0\n",
            "y true : 0 y pred :  0.0\n",
            "y true : 0 y pred :  1.0\n",
            "y true : 0 y pred :  1.0\n",
            "y true : 0 y pred :  1.0\n",
            "y true : 1 y pred :  0.0\n",
            "y true : 1 y pred :  0.0\n",
            "y true : 1 y pred :  1.0\n",
            "y true : 0 y pred :  0.0\n",
            "y true : 0 y pred :  1.0\n",
            "y true : 0 y pred :  1.0\n",
            "y true : 1 y pred :  1.0\n",
            "y true : 1 y pred :  0.0\n",
            "y true : 1 y pred :  0.0\n",
            "y true : 0 y pred :  1.0\n",
            "y true : 1 y pred :  0.0\n",
            "y true : 0 y pred :  0.0\n",
            "[[68 76]\n",
            " [62 25]]\n"
          ]
        },
        {
          "output_type": "execute_result",
          "data": {
            "text/plain": [
              "<sklearn.metrics._plot.confusion_matrix.ConfusionMatrixDisplay at 0x7f6773706b50>"
            ]
          },
          "metadata": {},
          "execution_count": 94
        },
        {
          "output_type": "display_data",
          "data": {
            "text/plain": [
              "<Figure size 432x288 with 2 Axes>"
            ],
            "image/png": "[encoded data removed]"
          },
          "metadata": {
            "needs_background": "light"
          }
        }
      ]
    },
    {
      "cell_type": "markdown",
      "source": [
        "### | 과제 4. 생각해보기\n",
        "\n",
        "데이터가 불균형 할 때 딥러닝에서는 어떠한 방법을 써서 이를 해결 하나요? \n"
      ],
      "metadata": {
        "id": "s4VjzrycjTUK"
      }
    },
    {
      "cell_type": "code",
      "source": [
        ""
      ],
      "metadata": {
        "id": "tcMHkA5BjSho"
      },
      "execution_count": null,
      "outputs": []
    }
  ]
}