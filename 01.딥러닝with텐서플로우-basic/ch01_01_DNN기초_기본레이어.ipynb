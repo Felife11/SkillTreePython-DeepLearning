{
  "nbformat": 4,
  "nbformat_minor": 0,
  "metadata": {
    "colab": {
      "name": "ch01_01_DNN기초-기본레이어.ipynb",
      "provenance": [],
      "collapsed_sections": [],
      "include_colab_link": true
    },
    "kernelspec": {
      "name": "python3",
      "display_name": "Python 3"
    },
    "language_info": {
      "name": "python"
    }
  },
  "cells": [
    {
      "cell_type": "markdown",
      "metadata": {
        "id": "view-in-github",
        "colab_type": "text"
      },
      "source": [
        "<a href=\"https://colab.research.google.com/github/Felife11/SkillTreePython-DeepLearning/blob/main/01.%EB%94%A5%EB%9F%AC%EB%8B%9Dwith%ED%85%90%EC%84%9C%ED%94%8C%EB%A1%9C%EC%9A%B0-basic/ch01_01_DNN%EA%B8%B0%EC%B4%88_%EA%B8%B0%EB%B3%B8%EB%A0%88%EC%9D%B4%EC%96%B4.ipynb\" target=\"_parent\"><img src=\"https://colab.research.google.com/assets/colab-badge.svg\" alt=\"Open In Colab\"/></a>"
      ]
    },
    {
      "cell_type": "markdown",
      "source": [
        "# 01. DNN기초 - 기본 레이어\n",
        "---\n",
        "* 날짜: 2022.06.30\n",
        "* 이름: 정성대\n",
        "\n",
        "## 학습내용\n",
        "    - 딥러닝을 구성하는 레이어에 대해 이해한다.\n",
        "    - 활성화 함수 종류를 구현하고 특징을 정리한다.\n",
        "    - 그래디언트 소실에 대해 이해한다.\n",
        "\n",
        "## 학습자료\n",
        "\n",
        "\n",
        "- 케라스 창시자에게 배우는 딥러닝\n"
      ],
      "metadata": {
        "id": "9Q1yeunDnbDS"
      }
    },
    {
      "cell_type": "code",
      "source": [
        "import numpy as np\n",
        "import matplotlib.pyplot as plt"
      ],
      "metadata": {
        "id": "FH_uBeAD1qZ1"
      },
      "execution_count": 1,
      "outputs": []
    },
    {
      "cell_type": "markdown",
      "source": [
        "## 선형 함수 (Linear)\n",
        "---\n",
        "\n",
        "<p align='center'>\n",
        "<img src=https://github.com/yebiny/SkillTreePython-DeepLearning/blob/main/imgs/ch0101-07.png?raw=true width=700>\n",
        "\n"
      ],
      "metadata": {
        "id": "TE4OOCmn02qg"
      }
    },
    {
      "cell_type": "markdown",
      "source": [
        "### **| 모델 생성**"
      ],
      "metadata": {
        "id": "otUGNnfHAMHh"
      }
    },
    {
      "cell_type": "code",
      "source": [
        "class Linear():\n",
        "  def __init__(self, input_d, output_d):\n",
        "    W_shape = (input_d, output_d)\n",
        "    self.W = np.random.normal(size = W_shape) #랜덤한 값을 가지고, shape는 W shape인 행렬\n",
        "    self.B = np.random.normal(size = output_d)\n",
        "\n",
        "    # W를 곱하고, B를 더한다\n",
        "  def forward(self, X):\n",
        "      #X : (n_sample, input_d)\n",
        "      return X@self.W + self.B\n",
        "\n",
        "   # 직접 학습파라미터 설정\n",
        "  def set_weights( self,param_list):\n",
        "    #param_list [W, B]\n",
        "     self.W = param_list[0]\n",
        "     self.B = param_list[1]\n",
        "\n",
        "linear1 = Linear(3,3)\n",
        "print(linear1.W, linear1.B)\n",
        "linear2 = Linear(3,2)\n",
        "print(linear2.W, linear2.B)\n",
        "\n",
        "X = np.array([[1,2,1]])\n",
        "print(X, X.shape)\n",
        "print(f'첫번째 레이어 계산 결과 : {linear1.forward(X)}')\n",
        "print(f'두번째 레이어 계산 결과 : {linear2.forward(linear1.forward(X))}')\n"
      ],
      "metadata": {
        "id": "nG4eK5_61AEy",
        "outputId": "620fdd4f-a12d-42ea-9961-d69067ab7181",
        "colab": {
          "base_uri": "https://localhost:8080/"
        }
      },
      "execution_count": 27,
      "outputs": [
        {
          "output_type": "stream",
          "name": "stdout",
          "text": [
            "[[-0.50174756 -0.99521286  0.37724194]\n",
            " [-1.46768032 -0.09078074 -1.09292566]\n",
            " [ 1.28895071 -0.05873345  0.38380761]] [-1.39744311  1.10637879 -1.09502112]\n",
            "[[ 0.63755081 -0.22791076]\n",
            " [ 2.17255576  0.77075817]\n",
            " [ 0.84841257  0.79547884]] [0.13541054 0.70913891]\n",
            "[[1 2 1]] (1, 3)\n",
            "첫번째 레이어 계산 결과 : [[-3.5456006  -0.129129   -2.51982288]]\n",
            "두번째 레이어 계산 결과 : [[-4.54347935 -0.5867736 ]]\n"
          ]
        }
      ]
    },
    {
      "cell_type": "markdown",
      "source": [
        "* 모델 불러오기"
      ],
      "metadata": {
        "id": "NDY8-kbSCcGj"
      }
    },
    {
      "cell_type": "code",
      "source": [
        ""
      ],
      "metadata": {
        "id": "nwJeEInq6_P7"
      },
      "execution_count": null,
      "outputs": []
    },
    {
      "cell_type": "markdown",
      "source": [
        "### **| 순전파 계산**\n",
        "\n",
        "데이터와 학습파라미터의 값이 아래와 같을 때 Y값을 구하세요.\n",
        "\n",
        "<p align='center'>\n",
        "<img src=https://github.com/yebiny/SkillTreePython-DeepLearning/blob/main/imgs/ch0101-11.png?raw=true width=800>\n",
        "</p>"
      ],
      "metadata": {
        "id": "aQLEzz4e80It"
      }
    },
    {
      "cell_type": "markdown",
      "source": [
        "* 파라미터 정의"
      ],
      "metadata": {
        "id": "2jpPu_1ACdlt"
      }
    },
    {
      "cell_type": "markdown",
      "source": [
        ""
      ],
      "metadata": {
        "id": "pST2cZo90-S6"
      }
    },
    {
      "cell_type": "code",
      "source": [
        "\n",
        "X = np.array([[1,2,1]])\n",
        "print(X, X.shape)\n",
        "W1 = np.array([1,1,-1,1,0.5,-1,1,1,1]).reshape(3,3)\n",
        "B1 = np.array([0,0,0]).reshape(1,3)\n",
        "W2 = np.array([1,0.5,-1,0.5,0,1]).reshape(3,2)\n",
        "B2 = np.array([1,0.5]).reshape(1,2)\n",
        "print(W1,B1,W2,B2)"
      ],
      "metadata": {
        "id": "0aZbsZGP6XVH",
        "outputId": "af86d52a-a0a3-4e68-ff88-c038e799c80b",
        "colab": {
          "base_uri": "https://localhost:8080/"
        }
      },
      "execution_count": 31,
      "outputs": [
        {
          "output_type": "stream",
          "name": "stdout",
          "text": [
            "[[1 2 1]] (1, 3)\n",
            "[[ 1.   1.  -1. ]\n",
            " [ 1.   0.5 -1. ]\n",
            " [ 1.   1.   1. ]] [[0 0 0]] [[ 1.   0.5]\n",
            " [-1.   0.5]\n",
            " [ 0.   1. ]] [[1.  0.5]]\n"
          ]
        }
      ]
    },
    {
      "cell_type": "markdown",
      "source": [
        "* 학습 파라미터 확인"
      ],
      "metadata": {
        "id": "Yj1j1WVlCfEL"
      }
    },
    {
      "cell_type": "code",
      "source": [
        "linear1 = Linear(3,3)\n",
        "linear2 = Linear(3,2)\n",
        "print(linear1.W, linear1.B)\n",
        "print(linear2.W, linear2.B)"
      ],
      "metadata": {
        "id": "-KS1Snwg60FH",
        "outputId": "d4c6ee1a-e073-4e60-934b-bb2f26bcd56c",
        "colab": {
          "base_uri": "https://localhost:8080/"
        }
      },
      "execution_count": 33,
      "outputs": [
        {
          "output_type": "stream",
          "name": "stdout",
          "text": [
            "[[-0.32716524 -0.31562614  0.33762784]\n",
            " [ 1.62977124 -0.30814189 -3.35033333]\n",
            " [ 1.77159214 -0.24447603  1.40916079]] [-0.50715355 -1.01489785  1.99090745]\n",
            "[[ 1.55229494  0.77499559]\n",
            " [-0.66147881 -0.00982373]\n",
            " [ 0.64112374  2.30730721]] [-0.33798205  0.08946345]\n"
          ]
        }
      ]
    },
    {
      "cell_type": "markdown",
      "source": [
        "* 예측 (순전파)"
      ],
      "metadata": {
        "id": "V-dCS6zTCjD2"
      }
    },
    {
      "cell_type": "code",
      "source": [
        "print(f'첫번째 레이어 계산 결과 : {linear1.forward(X)}')\n",
        "print(f'두번째 레이어 계산 결과 : {linear2.forward(linear1.forward(X))}')\n"
      ],
      "metadata": {
        "id": "Ag3K-NO97FzD",
        "outputId": "56a9688b-5b4f-4456-d867-e9bd32241a58",
        "colab": {
          "base_uri": "https://localhost:8080/"
        }
      },
      "execution_count": 35,
      "outputs": [
        {
          "output_type": "stream",
          "name": "stdout",
          "text": [
            "첫번째 레이어 계산 결과 : [[ 4.  3. -2.]]\n",
            "두번째 레이어 계산 결과 : [[2. 2.]]\n"
          ]
        }
      ]
    },
    {
      "cell_type": "markdown",
      "source": [
        "* 학습 파라미터 세팅"
      ],
      "metadata": {
        "id": "eUOF6xYgClzp"
      }
    },
    {
      "cell_type": "code",
      "source": [
        "linear1.set_weights([W1,B1])\n",
        "linear2.set_weights([W2, B2])\n",
        "\n",
        "print(linear1.W, linear1.B)\n",
        "print(linear2.W, linear2.B)"
      ],
      "metadata": {
        "id": "DvoBSK086gxm",
        "outputId": "f874a656-0a22-4e4b-9775-ac917afc41c4",
        "colab": {
          "base_uri": "https://localhost:8080/"
        }
      },
      "execution_count": 34,
      "outputs": [
        {
          "output_type": "stream",
          "name": "stdout",
          "text": [
            "[[ 1.   1.  -1. ]\n",
            " [ 1.   0.5 -1. ]\n",
            " [ 1.   1.   1. ]] [[0 0 0]]\n",
            "[[ 1.   0.5]\n",
            " [-1.   0.5]\n",
            " [ 0.   1. ]] [[1.  0.5]]\n"
          ]
        }
      ]
    },
    {
      "cell_type": "markdown",
      "source": [
        "## 활성 함수 (Activation)\n",
        "---\n",
        "\n",
        "<p align='center'>\n",
        "<img src=https://github.com/yebiny/SkillTreePython-DeepLearning/blob/main/imgs/ch0101-08.png?raw=true width=800>\n",
        "\n",
        "* 비선형 함수를 사용하는 이유\n",
        "\n",
        "> 선형함수인 $h(x)=cx$를 활성화함수로 사용한 3층 네트워크를 떠올려 보세요.\n",
        "이를 식으로 나타내면 $y(x)=h(h(h(x)))$가 됩니다. 이는 실은 $y(x)=ax$와 똑같은 식입니다.\n",
        "$a=c3$이라고만 하면 끝이죠. 즉, 은닉층이 없는 네트워크로 표현할 수 있습니다.\n",
        "뉴럴네트워크에서 층을 쌓는 혜택을 얻고 싶다면 활성화함수로는 반드시 비선형 함수를 사용해야 합니다. **출처: [밑바닥부터 시작하는 딥러닝]**\n",
        " \n",
        "* 어떤 활성화 함수를 써야할까\n",
        "\n",
        "> ELU → LeakyReLU → ReLU → tanh → sigmoid 순으로 사용하라는 얘기도 있고, cs231n 강의에서는 ReLU를 먼저 쓰고 , 그다음으로 LeakyReLU나 ELU 같은 ReLU Family를 쓰며, sigmoid는 사용하지 말라고 하고 있다.\n",
        "**출처: https://excelsior-cjh.tistory.com/177 [EXCELSIOR:티스토리]**\n",
        "\n",
        "* 딥러닝에서 사용되는 활성화 함수의 종류\n",
        "\n",
        "```\n",
        "- Step Function\n",
        "- Sigmoid\n",
        "- Softmax\n",
        "- Tanh\n",
        "- ReLU\n",
        "- Leaky ReLU\n",
        "- PReLU\n",
        "- ELU\n",
        "```\n"
      ],
      "metadata": {
        "id": "BARbnIMRzMRC"
      }
    },
    {
      "cell_type": "markdown",
      "source": [
        "* 시각화를 위한 플롯팅 함수"
      ],
      "metadata": {
        "id": "SFciXyKSJG9q"
      }
    },
    {
      "cell_type": "code",
      "source": [
        "plt.rcParams['figure.figsize'] = (8, 2)\n",
        "def plot_func(xs, ys, title=''):\n",
        "  plt.plot(xs, ys)\n",
        "  plt.title(title)\n",
        "  plt.ylim(-1, 2)\n",
        "  plt.hlines(xmin=-5, xmax=5, y=0, colors='r', linestyles=':')\n",
        "  plt.grid()"
      ],
      "metadata": {
        "id": "joqmI6sxJOIO"
      },
      "execution_count": 81,
      "outputs": []
    },
    {
      "cell_type": "code",
      "source": [
        "plot_func([0,1], [0,1]) # (0,0) ~ (1,2) 직선"
      ],
      "metadata": {
        "id": "KjtVL61q3Fa2",
        "outputId": "b9898752-ff20-493f-b970-602d98b1c19d",
        "colab": {
          "base_uri": "https://localhost:8080/",
          "height": 161
        }
      },
      "execution_count": 82,
      "outputs": [
        {
          "output_type": "display_data",
          "data": {
            "text/plain": [
              "<Figure size 576x144 with 1 Axes>"
            ],
            "image/png": "[encoded data removed]"
          },
          "metadata": {
            "needs_background": "light"
          }
        }
      ]
    },
    {
      "cell_type": "markdown",
      "source": [
        "### **| Sigmoid**\n",
        "\n",
        "<p align='center'>\n",
        "<img src=https://github.com/yebiny/SkillTreePython-DeepLearning/blob/main/imgs/ch0101-15.png?raw=true width=500>\n",
        "\n",
        "\n",
        "\n"
      ],
      "metadata": {
        "id": "qCVwE0VGdEya"
      }
    },
    {
      "cell_type": "markdown",
      "source": [
        "* 구현\n",
        "\\begin{align}\n",
        "sigmoid(x) = \\frac{1}{1+e^{-x}}\n",
        "\\end{align}\n"
      ],
      "metadata": {
        "id": "lZ-BqoaMI_zr"
      }
    },
    {
      "cell_type": "code",
      "source": [
        "def sigmoid(x):\n",
        "  return 1/(1+np.exp(-x)) # np.exp(-x) = 2./1**(-x)\n",
        "  "
      ],
      "metadata": {
        "id": "lykqtbIuzXlS"
      },
      "execution_count": 43,
      "outputs": []
    },
    {
      "cell_type": "markdown",
      "source": [
        "* 미분\n",
        "\\begin{align}\n",
        "\\frac{d}{dx} sigmoid(x) = sigmoid(x)(1-sigmoid(x))\n",
        "\\end{align}\n"
      ],
      "metadata": {
        "id": "RwWVqA0ddJvx"
      }
    },
    {
      "cell_type": "code",
      "source": [
        "def sigmoid_grad(x):\n",
        "  return sigmoid(x)*(1-sigmoid(x))"
      ],
      "metadata": {
        "id": "Oqb7TLZGzXnh"
      },
      "execution_count": 44,
      "outputs": []
    },
    {
      "cell_type": "markdown",
      "source": [
        "* 시각화"
      ],
      "metadata": {
        "id": "05K5suyKJhCH"
      }
    },
    {
      "cell_type": "code",
      "source": [
        "xs = np.linspace(-5,5, 100) # -3부터 3까지 100개의 값들\n",
        "#x값에 따른 시그모이드 아우풋 y\n",
        "plt.subplot(121);plot_func(xs, sigmoid(xs));plt.title('Sigmoid')\n",
        "plt.subplot(122);plot_func(xs, sigmoid_grad(xs));plt.title('Sigmoid(dev)')"
      ],
      "metadata": {
        "id": "y_27bU8kJCdO",
        "outputId": "ee3ada0c-6e74-41f0-de6d-fb31c52f2bf3",
        "colab": {
          "base_uri": "https://localhost:8080/",
          "height": 191
        }
      },
      "execution_count": 83,
      "outputs": [
        {
          "output_type": "execute_result",
          "data": {
            "text/plain": [
              "Text(0.5, 1.0, 'Sigmoid(dev)')"
            ]
          },
          "metadata": {},
          "execution_count": 83
        },
        {
          "output_type": "display_data",
          "data": {
            "text/plain": [
              "<Figure size 576x144 with 2 Axes>"
            ],
            "image/png": "[encoded data removed]"
          },
          "metadata": {
            "needs_background": "light"
          }
        }
      ]
    },
    {
      "cell_type": "markdown",
      "source": [
        "\n",
        "\n",
        "**Sigmoid 소개**\n",
        "\n",
        "```\n",
        "- # 나오게 된 배경\n",
        "- # 장단점\n",
        "- # 특징 정리 (출력 범위, 미분 값 등 )\n",
        "```\n"
      ],
      "metadata": {
        "id": "Oi2i3MEjIyhu"
      }
    },
    {
      "cell_type": "markdown",
      "source": [
        "### **| Softmax**\n",
        "\n",
        "<p align='center'>\n",
        "<img src=https://github.com/yebiny/SkillTreePython-DeepLearning/blob/main/imgs/ch0101-16.png?raw=true width=550>\n"
      ],
      "metadata": {
        "id": "oUb85RD1ds-H"
      }
    },
    {
      "cell_type": "markdown",
      "source": [
        "* 구현\n",
        "\n",
        "\\begin{align}\n",
        "softmax(x) = \\frac{e^{x_i}}{\\sum_je^{x_j}}\n",
        "\\end{align}"
      ],
      "metadata": {
        "id": "MAS3Q5qGkSnz"
      }
    },
    {
      "cell_type": "markdown",
      "source": [
        ""
      ],
      "metadata": {
        "id": "LJWfnLwe_5kD"
      }
    },
    {
      "cell_type": "code",
      "source": [
        "def softmax(x_vec):\n",
        "  step1 = np.exp(x_vec)\n",
        "  step2 = np.sum(step1)\n",
        "\n",
        "  return step1/step2\n",
        "  \n",
        "x_vec = np.array([1,2,0])\n",
        "y_vec = softmax(x_vec)\n",
        "print(y_vec, np.sum(y_vec))"
      ],
      "metadata": {
        "id": "V9OtdSfPkSn0",
        "outputId": "80494514-0947-4daf-80cf-6691ff24b5f5",
        "colab": {
          "base_uri": "https://localhost:8080/"
        }
      },
      "execution_count": 90,
      "outputs": [
        {
          "output_type": "stream",
          "name": "stdout",
          "text": [
            "[0.24472847 0.66524096 0.09003057] 1.0\n"
          ]
        }
      ]
    },
    {
      "cell_type": "markdown",
      "source": [
        "* 미분\n",
        "\n",
        "\n",
        "\\begin{align}\n",
        "\\frac{x}{dx} Softmax(\\vec{x}) =  \n",
        "\\begin{cases}\n",
        "& Softmax(\\vec{x})(1-Softmax(\\vec{x})) \\;\\;\\;\\;\\;\\;\\; \\text{ if } i=j  \n",
        "\\\\ & 0 \\;\\;\\;\\;\\;\\;\\;\\;\\;\\;\\;\\;\\;\\;\\;\\;\\;\\;\\;\\;\\;\\;\\;\\;\\;\\;\\;\\;\\;\\;\\;\\;\\;\\;\\;\\;\\;\\;\\;\\;\\;\\;\\;\\;\\;\\;\\;\\;\\;\\;\\;\\;\\;\\;\\;\\; \\text{ if } i\\neq j \n",
        "\\end{cases}\n",
        "\\end{align}"
      ],
      "metadata": {
        "id": "DozuQe8ikSn0"
      }
    },
    {
      "cell_type": "code",
      "source": [
        ""
      ],
      "metadata": {
        "id": "RsLPlGPckSn0"
      },
      "execution_count": null,
      "outputs": []
    },
    {
      "cell_type": "markdown",
      "source": [
        "* 시각화\n"
      ],
      "metadata": {
        "id": "z2ak5_tNQmu9"
      }
    },
    {
      "cell_type": "code",
      "source": [
        "import pandas as pd\n",
        "pd.DataFrame(y_vec).plot(kind ='bar')"
      ],
      "metadata": {
        "id": "s_LJOuOJQmu9",
        "outputId": "61020a4b-c241-448e-ca0a-81b4d2c4a770",
        "colab": {
          "base_uri": "https://localhost:8080/",
          "height": 171
        }
      },
      "execution_count": 92,
      "outputs": [
        {
          "output_type": "execute_result",
          "data": {
            "text/plain": [
              "<matplotlib.axes._subplots.AxesSubplot at 0x7f1adf0aded0>"
            ]
          },
          "metadata": {},
          "execution_count": 92
        },
        {
          "output_type": "display_data",
          "data": {
            "text/plain": [
              "<Figure size 576x144 with 1 Axes>"
            ],
            "image/png": "[encoded data removed]"
          },
          "metadata": {
            "needs_background": "light"
          }
        }
      ]
    },
    {
      "cell_type": "markdown",
      "source": [
        "\n",
        "**Softmax 소개**\n",
        "\n",
        "```\n",
        "- # 나오게 된 배경\n",
        "- # 장단점\n",
        "- # 특징 정리 (출력 범위, 미분 값 등 )\n",
        "```\n"
      ],
      "metadata": {
        "id": "ejR0PQYZtLSg"
      }
    },
    {
      "cell_type": "markdown",
      "source": [
        "### **| Tanh**\n",
        "\n"
      ],
      "metadata": {
        "id": "W78hLTGxdtK3"
      }
    },
    {
      "cell_type": "markdown",
      "source": [
        "* 구현\n",
        "\n",
        "\\begin{align}\n",
        "tanh(x) = \\frac{e^x - e^{-x}}{e^{x}+e^{-x}}\n",
        "\\end{align}"
      ],
      "metadata": {
        "id": "eBD4SPRLkTMl"
      }
    },
    {
      "cell_type": "code",
      "source": [
        "def tanh(x_vec):\n",
        "  step1 = np.exp(x_vec) - np.exp(-x_vec)\n",
        "  step2 = np.exp(x_vec) + np.exp(-x_vec)\n",
        "  return step1/step2\n",
        "\n",
        "x_vec = np.array([1,2,0])\n",
        "y_vec = tanh(x_vec)\n",
        "print(y_vec, np.sum(y_vec))"
      ],
      "metadata": {
        "id": "SHdGQkAhkTMl",
        "outputId": "21a8d6c4-bd7a-4a94-ce5c-e71a18748df7",
        "colab": {
          "base_uri": "https://localhost:8080/"
        }
      },
      "execution_count": 105,
      "outputs": [
        {
          "output_type": "stream",
          "name": "stdout",
          "text": [
            "[0.76159416 0.96402758 0.        ] 1.7256217360315818\n"
          ]
        }
      ]
    },
    {
      "cell_type": "markdown",
      "source": [
        "* 미분\n",
        "\n",
        "\n",
        "\\begin{align}\n",
        "\\frac{d}{dx} tanh(x) = (1-tanh(x))(1+tanh(x))) = 1-tanh(x)^2\n",
        "\\end{align}"
      ],
      "metadata": {
        "id": "nqlW5Q_7kTMl"
      }
    },
    {
      "cell_type": "code",
      "source": [
        "def tanh_grad(x_vec):\n",
        "  return 1-tanh(x_vec)**2"
      ],
      "metadata": {
        "id": "NKy-cXGAkTMl"
      },
      "execution_count": 104,
      "outputs": []
    },
    {
      "cell_type": "markdown",
      "source": [
        "* 시각화"
      ],
      "metadata": {
        "id": "wXi8E2T_INh4"
      }
    },
    {
      "cell_type": "code",
      "source": [
        "xs = np.linspace(-5,5, 100) # -3부터 3까지 100개의 값들\n",
        "#x값에 따른 시그모이드 아우풋 y\n",
        "plt.subplot(121);plot_func(xs, tanh(xs));plt.title('Tanh')\n",
        "plt.subplot(122);plot_func(xs, tanh_grad(xs));plt.title('Tanh(dev)')"
      ],
      "metadata": {
        "id": "zli5iL01INh5",
        "outputId": "3063aa20-dd01-4b6e-c455-fa10a93e5bee",
        "colab": {
          "base_uri": "https://localhost:8080/",
          "height": 191
        }
      },
      "execution_count": 106,
      "outputs": [
        {
          "output_type": "execute_result",
          "data": {
            "text/plain": [
              "Text(0.5, 1.0, 'Tanh(dev)')"
            ]
          },
          "metadata": {},
          "execution_count": 106
        },
        {
          "output_type": "display_data",
          "data": {
            "text/plain": [
              "<Figure size 576x144 with 2 Axes>"
            ],
            "image/png": "[encoded data removed]"
          },
          "metadata": {
            "needs_background": "light"
          }
        }
      ]
    },
    {
      "cell_type": "markdown",
      "source": [
        "\n",
        "**Tanh 소개**\n",
        "\n",
        "```\n",
        "- # 나오게 된 배경\n",
        "- # 장단점\n",
        "- # 특징 정리 (출력 범위, 미분 값 등 )\n",
        "```\n",
        "\n"
      ],
      "metadata": {
        "id": "aeS5x6QJINh5"
      }
    },
    {
      "cell_type": "markdown",
      "source": [
        "### **| ReLU**\n"
      ],
      "metadata": {
        "id": "3pvnp63ydtbv"
      }
    },
    {
      "cell_type": "markdown",
      "source": [
        "* 구현\n",
        "\n",
        "\\begin{align}\n",
        "ReLU(x) = max(0, x)\n",
        "\\end{align}\n",
        "\\begin{align}\n",
        "ReLU(x) =  \n",
        "\\begin{cases}\n",
        "& x \\;\\; \\text{ if } x \\geq 0  \n",
        "\\\\ & 0 \\;\\; \\text{ if } x <0  \n",
        "\\end{cases}\n",
        "\\end{align}"
      ],
      "metadata": {
        "id": "CoX6MmkZkU2s"
      }
    },
    {
      "cell_type": "code",
      "source": [
        "def ReLU(x):\n",
        "  #return np.maximum(0,x)\n",
        "  return np.where( x>=0, x, 0)"
      ],
      "metadata": {
        "id": "pHdYyZY0kU2s"
      },
      "execution_count": 107,
      "outputs": []
    },
    {
      "cell_type": "markdown",
      "source": [
        "* 미분\n",
        "\n",
        "\n",
        "\\begin{align}\n",
        "\\frac{x}{dx} ReLU(x) =  \n",
        "\\begin{cases}\n",
        "& 1 \\;\\; \\text{ if } x \\geq 0  \n",
        "\\\\ & 0 \\;\\; \\text{ if } x <0  \n",
        "\\end{cases}\n",
        "\\end{align}\n"
      ],
      "metadata": {
        "id": "i02vlzpOkU2s"
      }
    },
    {
      "cell_type": "code",
      "source": [
        "def ReLU_grad(x):\n",
        "  return np.where(x>= 0 , 1, 0)"
      ],
      "metadata": {
        "id": "VVvwQ-LkkU2s"
      },
      "execution_count": 108,
      "outputs": []
    },
    {
      "cell_type": "markdown",
      "source": [
        "* 시각화"
      ],
      "metadata": {
        "id": "kyDgaTsnImBJ"
      }
    },
    {
      "cell_type": "code",
      "source": [
        "xs = np.linspace(-5,5, 100) # -3부터 3까지 100개의 값들\n",
        "#x값에 따른 시그모이드 아우풋 y\n",
        "plt.subplot(121);plot_func(xs, ReLU(xs));plt.title('ReLU')\n",
        "plt.subplot(122);plot_func(xs, ReLU_grad(xs));plt.title('ReLU(dev)')"
      ],
      "metadata": {
        "id": "Gus2PThvImBJ",
        "outputId": "86089e13-ea55-4eca-ce3d-5d3686ea2bed",
        "colab": {
          "base_uri": "https://localhost:8080/",
          "height": 191
        }
      },
      "execution_count": 110,
      "outputs": [
        {
          "output_type": "execute_result",
          "data": {
            "text/plain": [
              "Text(0.5, 1.0, 'ReLU(dev)')"
            ]
          },
          "metadata": {},
          "execution_count": 110
        },
        {
          "output_type": "display_data",
          "data": {
            "text/plain": [
              "<Figure size 576x144 with 2 Axes>"
            ],
            "image/png": "[encoded data removed]"
          },
          "metadata": {
            "needs_background": "light"
          }
        }
      ]
    },
    {
      "cell_type": "markdown",
      "source": [
        "\n",
        "\n",
        "**ReLU 소개**\n",
        "\n",
        "```\n",
        "- # 나오게 된 배경\n",
        "- # 장단점\n",
        "- # 특징 정리 (출력 범위, 미분 값 등 )\n",
        "```\n",
        "\n"
      ],
      "metadata": {
        "id": "W7iYiMomImBJ"
      }
    },
    {
      "cell_type": "markdown",
      "source": [
        "### **| LeackyReLU & PReLU**\n",
        "\n"
      ],
      "metadata": {
        "id": "giYriuzFd2Y5"
      }
    },
    {
      "cell_type": "markdown",
      "source": [
        "* 구현\n",
        "\n",
        "\\begin{align}\n",
        "LeackyReLU(x) = max(0.01  x, x)\n",
        "\\\\\n",
        "\\\\\n",
        "\\end{align}\n",
        "\n",
        "\n",
        "\n",
        "\\begin{align}\n",
        "PReLU(x;\\alpha) = max(\\alpha  x, x)\n",
        "\\end{align}\n",
        "\n",
        "\n",
        "\n",
        "\\begin{align}\n",
        "ReLU(x) = max(0, x)\n",
        "\\end{align}\n",
        "\\begin{align}\n",
        "ReLU(x) =  \n",
        "\\begin{cases}\n",
        "& x \\;\\; \\text{ if } x \\geq 0  \n",
        "\\\\ & \\alpha x \\;\\; \\text{ if } x <0  \n",
        "\\end{cases}\n",
        "\\end{align}"
      ],
      "metadata": {
        "id": "0J0EQQr6kVyU"
      }
    },
    {
      "cell_type": "code",
      "source": [
        " def PReLU(x, alpha=0.01):\n",
        "   return np.where(x >= 0 , x, alpha *x)"
      ],
      "metadata": {
        "id": "ZPn3pdYRkVyU"
      },
      "execution_count": 111,
      "outputs": []
    },
    {
      "cell_type": "markdown",
      "source": [
        "* 미분\n",
        "\n",
        "\\begin{align}\n",
        "\\frac{x}{dx} PReLU(x;\\alpha) =  \n",
        "\\begin{cases}\n",
        "& 1 \\;\\; \\text{ if } x \\geq 0  \n",
        "\\\\ & \\alpha \\;\\; \\text{ if } x <0  \n",
        "\\end{cases}\n",
        "\\end{align}"
      ],
      "metadata": {
        "id": "GgkyM8S9kVyU"
      }
    },
    {
      "cell_type": "code",
      "source": [
        "def PReLU_grad(x, alpha = 0.01):\n",
        "  return np.where(x>= 0 , 1, alpha)"
      ],
      "metadata": {
        "id": "SbkBD0IkkVyU"
      },
      "execution_count": 112,
      "outputs": []
    },
    {
      "cell_type": "markdown",
      "source": [
        "* 시각화\n",
        "  * $\\alpha$ 값이 각각 0.01, 0.1, 0.2 일때 플롯을 그리세요."
      ],
      "metadata": {
        "id": "hEw-vFRiK_LP"
      }
    },
    {
      "cell_type": "code",
      "source": [
        "xs = np.linspace(-5,5, 100) # -3부터 3까지 100개의 값들\n",
        "#x값에 따른 시그모이드 아우풋 y\n",
        "for a in [0,0.01, 0.1, 0.2]:\n",
        "  plt.subplot(121);plot_func(xs, PReLU(xs,alpha = a));plt.title('PReLU')\n",
        "  plt.subplot(122);plot_func(xs, PReLU_grad(xs, alpha = a));plt.title('PReLU(dev)')\n",
        "  plt.show()"
      ],
      "metadata": {
        "id": "NnSDkIONK_LP",
        "outputId": "72d5af45-5d14-4995-b846-6254b9734f16",
        "colab": {
          "base_uri": "https://localhost:8080/",
          "height": 641
        }
      },
      "execution_count": 126,
      "outputs": [
        {
          "output_type": "display_data",
          "data": {
            "text/plain": [
              "<Figure size 576x144 with 2 Axes>"
            ],
            "image/png": "[encoded data removed]"
          },
          "metadata": {
            "needs_background": "light"
          }
        },
        {
          "output_type": "display_data",
          "data": {
            "text/plain": [
              "<Figure size 576x144 with 2 Axes>"
            ],
            "image/png": "[encoded data removed]"
          },
          "metadata": {
            "needs_background": "light"
          }
        },
        {
          "output_type": "display_data",
          "data": {
            "text/plain": [
              "<Figure size 576x144 with 2 Axes>"
            ],
            "image/png": "[encoded data removed]"
          },
          "metadata": {
            "needs_background": "light"
          }
        },
        {
          "output_type": "display_data",
          "data": {
            "text/plain": [
              "<Figure size 576x144 with 2 Axes>"
            ],
            "image/png": "[encoded data removed]"
          },
          "metadata": {
            "needs_background": "light"
          }
        }
      ]
    },
    {
      "cell_type": "markdown",
      "source": [
        "\n",
        "\n",
        "**LeackReLU및 PReLU 소개**\n",
        "\n",
        "```\n",
        "- # 나오게 된 배경\n",
        "- # 장단점\n",
        "- # 특징 정리 (출력 범위, 미분 값 등 )\n",
        "- # 알파 값은 보통 어떻게 정해지는가?\n",
        "```\n",
        "\n"
      ],
      "metadata": {
        "id": "iBA1WZWSK_LQ"
      }
    },
    {
      "cell_type": "markdown",
      "source": [
        "### **| ELU & SELU**\n",
        "\n",
        "\n",
        "\\begin{align}\n",
        "ELU(x) =\n",
        "\\begin{cases}\n",
        "& x \\;\\;\\;\\;\\;\\;\\;\\;\\;\\;\\;\\;\\;\\;\\;\\;\\; \\text{ if } x \\geq 0  \n",
        "\\\\ & (e^x-1) \\;\\;\\;\\;\\;\\; \\text{ if } x <0  \n",
        "\\end{cases}\n",
        "\\\\\n",
        "\\\\\n",
        "\\end{align}\n",
        "\n",
        "\n",
        "\n",
        "\\begin{align}\n",
        "SELU(x;\\alpha) =\n",
        "\\begin{cases}\n",
        "& x \\;\\;\\;\\;\\;\\;\\;\\;\\;\\;\\;\\;\\;\\;\\; \\text{ if } x \\geq 0  \n",
        "\\\\ & \\alpha(e^x-1) \\;\\; \\text{ if } x <0  \n",
        "\\end{cases}\n",
        "\\end{align}"
      ],
      "metadata": {
        "id": "IuUR73Ytd-E3"
      }
    },
    {
      "cell_type": "markdown",
      "source": [
        "* 구현"
      ],
      "metadata": {
        "id": "gllJdWbrkYEn"
      }
    },
    {
      "cell_type": "code",
      "source": [
        "def SELU(x, alpha=1):\n",
        "  return np.where(x>= 0 , x, alpha*(np.exp(x) - 1))"
      ],
      "metadata": {
        "id": "bgm1hZG0kYEo"
      },
      "execution_count": 135,
      "outputs": []
    },
    {
      "cell_type": "markdown",
      "source": [
        "* 미분\n",
        "\n",
        "\\begin{align}\n",
        "\\frac{x}{dx} ELU(x;\\alpha) =  \n",
        "\\begin{cases}\n",
        "& 1 \\;\\;\\;\\;\\;\\; \\text{ if } x \\geq 0  \n",
        "\\\\ & \\alpha e^{x} \\;\\; \\text{ if } x <0  \n",
        "\\end{cases}\n",
        "\\end{align}"
      ],
      "metadata": {
        "id": "w-f6CI2PkYEo"
      }
    },
    {
      "cell_type": "code",
      "source": [
        "def SELU_grad(x, alpha=1):\n",
        "  return np.where(x>=0, 1, alpha*np.exp(x))"
      ],
      "metadata": {
        "id": "5DlHTv-VkYEo"
      },
      "execution_count": 136,
      "outputs": []
    },
    {
      "cell_type": "markdown",
      "source": [
        "* 시각화\n",
        "  * $\\alpha$ 값이 각각 0.1, 1, 2 일때 플롯을 그리세요."
      ],
      "metadata": {
        "id": "9fQgzGW7MGXO"
      }
    },
    {
      "cell_type": "code",
      "source": [
        "xs = np.linspace(-5,5, 100) # -3부터 3까지 100개의 값들\n",
        "alpha =a\n",
        "for a in [0.1,1,2]:\n",
        "  plt.subplot(121);plot_func(xs, SELU(xs,alpha = a));plt.title('SELU')\n",
        "  plt.subplot(122);plot_func(xs, SELU_grad(xs, alpha = a));plt.title('SELU(dev)')\n",
        "  plt.show()"
      ],
      "metadata": {
        "id": "PQsWOKX8MGXO",
        "outputId": "30392f81-8a2f-45cd-852b-abd11845142a",
        "colab": {
          "base_uri": "https://localhost:8080/",
          "height": 485
        }
      },
      "execution_count": 137,
      "outputs": [
        {
          "output_type": "display_data",
          "data": {
            "text/plain": [
              "<Figure size 576x144 with 2 Axes>"
            ],
            "image/png": "[encoded data removed]"
          },
          "metadata": {
            "needs_background": "light"
          }
        },
        {
          "output_type": "display_data",
          "data": {
            "text/plain": [
              "<Figure size 576x144 with 2 Axes>"
            ],
            "image/png": "[encoded data removed]"
          },
          "metadata": {
            "needs_background": "light"
          }
        },
        {
          "output_type": "display_data",
          "data": {
            "text/plain": [
              "<Figure size 576x144 with 2 Axes>"
            ],
            "image/png": "[encoded data removed]"
          },
          "metadata": {
            "needs_background": "light"
          }
        }
      ]
    },
    {
      "cell_type": "markdown",
      "source": [
        "\n",
        "\n",
        "**ELU 및 ReLU 소개**\n",
        "\n",
        "```\n",
        "- # 나오게 된 배경\n",
        "- # 장단점\n",
        "- # 특징 정리 (출력 범위, 미분 값 등 )\n",
        "- # 알파 값은 보통 어떻게 정해지는가?\n",
        "```\n",
        "\n"
      ],
      "metadata": {
        "id": "lScBXtP4MGXO"
      }
    },
    {
      "cell_type": "markdown",
      "source": [
        "## 그래디언트 소실 (Vaniching Gradient)\n",
        "---\n",
        "다음 질문에 답할 수 있도록 내용을 정리하세요.\n",
        "\n",
        "1. 그래디언트 소실 개념\n",
        "2. 딥러닝에서 그래디언트 값이 중요한 이유\n",
        "3. 그래디언트 소실을 방지하기 위한 딥러닝 기법\n",
        "\n",
        "```\n",
        "\n",
        "\n",
        "```"
      ],
      "metadata": {
        "id": "jmJI0rPcK0Lg"
      }
    },
    {
      "cell_type": "code",
      "source": [
        ""
      ],
      "metadata": {
        "id": "UwJdVUnqkL7i"
      },
      "execution_count": null,
      "outputs": []
    }
  ]
}